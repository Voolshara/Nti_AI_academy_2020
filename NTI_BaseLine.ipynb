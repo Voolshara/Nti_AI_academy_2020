{
  "nbformat": 4,
  "nbformat_minor": 0,
  "metadata": {
    "colab": {
      "name": "NTI_BaseLine.ipynb",
      "provenance": [],
      "collapsed_sections": [],
      "authorship_tag": "ABX9TyONz4N3a2F1n1tDEMPjZaMT",
      "include_colab_link": true
    },
    "kernelspec": {
      "display_name": "Python 3",
      "name": "python3"
    },
    "accelerator": "GPU"
  },
  "cells": [
    {
      "cell_type": "markdown",
      "metadata": {
        "id": "view-in-github",
        "colab_type": "text"
      },
      "source": [
        "<a href=\"https://colab.research.google.com/github/Voolshara/Nti_AI_academy_2020/blob/main/NTI_BaseLine.ipynb\" target=\"_parent\"><img src=\"https://colab.research.google.com/assets/colab-badge.svg\" alt=\"Open In Colab\"/></a>"
      ]
    },
    {
      "cell_type": "code",
      "metadata": {
        "colab": {
          "base_uri": "https://localhost:8080/"
        },
        "id": "TdO05qpJcr31",
        "outputId": "389e1f60-30a4-47a8-94df-c20a08228bd0"
      },
      "source": [
        "!wget https://raw.githubusercontent.com/AI-Front/NTI/main/semifinals/data/train.jsonl"
      ],
      "execution_count": null,
      "outputs": [
        {
          "output_type": "stream",
          "text": [
            "--2020-12-23 03:52:31--  https://raw.githubusercontent.com/AI-Front/NTI/main/semifinals/data/train.jsonl\n",
            "Resolving raw.githubusercontent.com (raw.githubusercontent.com)... 151.101.0.133, 151.101.64.133, 151.101.128.133, ...\n",
            "Connecting to raw.githubusercontent.com (raw.githubusercontent.com)|151.101.0.133|:443... connected.\n",
            "HTTP request sent, awaiting response... 200 OK\n",
            "Length: 2930172 (2.8M) [text/plain]\n",
            "Saving to: ‘train.jsonl’\n",
            "\n",
            "train.jsonl         100%[===================>]   2.79M  15.5MB/s    in 0.2s    \n",
            "\n",
            "2020-12-23 03:52:32 (15.5 MB/s) - ‘train.jsonl’ saved [2930172/2930172]\n",
            "\n"
          ],
          "name": "stdout"
        }
      ]
    },
    {
      "cell_type": "code",
      "metadata": {
        "colab": {
          "base_uri": "https://localhost:8080/"
        },
        "id": "ehhg-KoKc0Wz",
        "outputId": "8d339048-2bb5-4e37-942e-c9e3887b2bd3"
      },
      "source": [
        "!wget  https://raw.githubusercontent.com/AI-Front/NTI/main/semifinals/data/val.jsonl"
      ],
      "execution_count": null,
      "outputs": [
        {
          "output_type": "stream",
          "text": [
            "--2020-12-23 03:52:32--  https://raw.githubusercontent.com/AI-Front/NTI/main/semifinals/data/val.jsonl\n",
            "Resolving raw.githubusercontent.com (raw.githubusercontent.com)... 151.101.0.133, 151.101.64.133, 151.101.128.133, ...\n",
            "Connecting to raw.githubusercontent.com (raw.githubusercontent.com)|151.101.0.133|:443... connected.\n",
            "HTTP request sent, awaiting response... 200 OK\n",
            "Length: 566932 (554K) [text/plain]\n",
            "Saving to: ‘val.jsonl’\n",
            "\n",
            "val.jsonl           100%[===================>] 553.64K  --.-KB/s    in 0.04s   \n",
            "\n",
            "2020-12-23 03:52:32 (12.5 MB/s) - ‘val.jsonl’ saved [566932/566932]\n",
            "\n"
          ],
          "name": "stdout"
        }
      ]
    },
    {
      "cell_type": "code",
      "metadata": {
        "colab": {
          "base_uri": "https://localhost:8080/"
        },
        "id": "2jDy6s3wEFqE",
        "outputId": "3d1536a0-1e17-4222-a02e-76064bffe18d"
      },
      "source": [
        "!wget  https://raw.githubusercontent.com/Voolshara/DS_NTI/main/test.jsonl"
      ],
      "execution_count": null,
      "outputs": [
        {
          "output_type": "stream",
          "text": [
            "--2020-12-23 03:52:32--  https://raw.githubusercontent.com/Voolshara/DS_NTI/main/test.jsonl\n",
            "Resolving raw.githubusercontent.com (raw.githubusercontent.com)... 151.101.0.133, 151.101.64.133, 151.101.128.133, ...\n",
            "Connecting to raw.githubusercontent.com (raw.githubusercontent.com)|151.101.0.133|:443... connected.\n",
            "HTTP request sent, awaiting response... 200 OK\n",
            "Length: 1739290 (1.7M) [text/plain]\n",
            "Saving to: ‘test.jsonl’\n",
            "\n",
            "test.jsonl          100%[===================>]   1.66M  --.-KB/s    in 0.08s   \n",
            "\n",
            "2020-12-23 03:52:33 (20.7 MB/s) - ‘test.jsonl’ saved [1739290/1739290]\n",
            "\n"
          ],
          "name": "stdout"
        }
      ]
    },
    {
      "cell_type": "code",
      "metadata": {
        "colab": {
          "base_uri": "https://localhost:8080/"
        },
        "id": "G9nVW6zaETYy",
        "outputId": "ba89acaa-56e2-40e6-ea3e-588052d37902"
      },
      "source": [
        "!pip install jsonlines"
      ],
      "execution_count": null,
      "outputs": [
        {
          "output_type": "stream",
          "text": [
            "Collecting jsonlines\n",
            "  Downloading https://files.pythonhosted.org/packages/4f/9a/ab96291470e305504aa4b7a2e0ec132e930da89eb3ca7a82fbe03167c131/jsonlines-1.2.0-py2.py3-none-any.whl\n",
            "Requirement already satisfied: six in /usr/local/lib/python3.6/dist-packages (from jsonlines) (1.15.0)\n",
            "Installing collected packages: jsonlines\n",
            "Successfully installed jsonlines-1.2.0\n"
          ],
          "name": "stdout"
        }
      ]
    },
    {
      "cell_type": "code",
      "metadata": {
        "colab": {
          "base_uri": "https://localhost:8080/"
        },
        "id": "hiREodXuc3vF",
        "outputId": "0dd31e9a-0488-47a2-f7e5-b9ab024c3a3e"
      },
      "source": [
        "import json\r\n",
        "#import jsonlines\r\n",
        "import codecs\r\n",
        "import os, re\r\n",
        "import pandas as pd\r\n",
        "import numpy as np\r\n",
        "import matplotlib.pyplot as plt\r\n",
        "import seaborn as sns\r\n",
        "%pylab inline\r\n",
        "from sklearn.metrics import *\r\n",
        "from sklearn.pipeline import Pipeline\r\n",
        "from sklearn.feature_extraction.text import CountVectorizer, TfidfTransformer\r\n",
        "\r\n",
        "from sklearn.svm import SVC\r\n",
        "from sklearn.tree import DecisionTreeClassifier, ExtraTreeClassifier\r\n",
        "from sklearn.linear_model import SGDClassifier,LogisticRegression\r\n",
        "from sklearn.ensemble import RandomForestClassifier"
      ],
      "execution_count": null,
      "outputs": [
        {
          "output_type": "stream",
          "text": [
            "Populating the interactive namespace from numpy and matplotlib\n"
          ],
          "name": "stdout"
        }
      ]
    },
    {
      "cell_type": "code",
      "metadata": {
        "id": "oi3-1RvHc33J"
      },
      "source": [
        "def get_X_y(data_json_file):\r\n",
        "    X, y = [], []\r\n",
        "    k1, k2 = 0, 0\r\n",
        "    with open(data_json_file, 'r') as json_file:\r\n",
        "        json_list = list(json_file)\r\n",
        "        #print(json_list[0])\r\n",
        "        for json_str in json_list:\r\n",
        "            item = json.loads(json_str)\r\n",
        "            text = item['passage']['text']\r\n",
        "            #print(item['passage'].keys())\r\n",
        "            questions = item['passage']['questions']\r\n",
        "            for q in questions:\r\n",
        "                query = q['question']\r\n",
        "                ans = q['answers']\r\n",
        "                for a in ans:\r\n",
        "                    X.append(text+' Query: '+query+' Answer: '+a['text'])\r\n",
        "                    y.append(a['label'])\r\n",
        "                    if a['label'] == 1:\r\n",
        "                      k1 += 1\r\n",
        "                    else:\r\n",
        "                      k2 += 1\r\n",
        "                    \r\n",
        "    return X, y, k1, k2"
      ],
      "execution_count": null,
      "outputs": []
    },
    {
      "cell_type": "code",
      "metadata": {
        "id": "_Mluhsk0dEMO"
      },
      "source": [
        "x, y, o1, o2 = get_X_y(\"/content/output__2021-01-08T10_50_01.617078 03_00.jsonl\")"
      ],
      "execution_count": null,
      "outputs": []
    },
    {
      "cell_type": "code",
      "metadata": {
        "colab": {
          "base_uri": "https://localhost:8080/"
        },
        "id": "I5RcW_0fcZYS",
        "outputId": "0b603f11-fb20-4d30-8028-ad5da6be2b0d"
      },
      "source": [
        "print(o1, o2) #640, 680, "
      ],
      "execution_count": null,
      "outputs": [
        {
          "output_type": "stream",
          "text": [
            "7020 594\n"
          ],
          "name": "stdout"
        }
      ]
    },
    {
      "cell_type": "code",
      "metadata": {
        "colab": {
          "base_uri": "https://localhost:8080/"
        },
        "id": "YfnFV-1RdEXI",
        "outputId": "1d8a1438-8bc7-4726-b3ef-5d9ba9138012"
      },
      "source": [
        "Key_words = []\r\n",
        "Key_words_kol = []\r\n",
        "for i in range(len(X_train)):\r\n",
        "  key = X_train[i][X_train[i].find(\"Query\") + 7:X_train[i].find(\"Answer\") - 1].split()[0]\r\n",
        "  if len(key) == 1 or len(key) == 2:\r\n",
        "    key = X_train[i][X_train[i].find(\"Query\") + 7:X_train[i].find(\"Answer\") - 1].split()[0] + \" \" + X_train[i][X_train[i].find(\"Query\") + 7:X_train[i].find(\"Answer\") - 1].split()[1]\r\n",
        "  if key in Key_words:\r\n",
        "    Key_words_kol[Key_words.index(key)] += 1\r\n",
        "  else:\r\n",
        "    Key_words.append(key)\r\n",
        "    Key_words_kol.append(1)\r\n",
        "chet = 0\r\n",
        "for i in range(len(Key_words_kol)):\r\n",
        "  if Key_words_kol[i] > 150:\r\n",
        "    print(Key_words[i], Key_words_kol[i])\r\n",
        "    chet += 1\r\n",
        "print(chet)    "
      ],
      "execution_count": null,
      "outputs": [
        {
          "output_type": "stream",
          "text": [
            "Где 352\n",
            "Почему 623\n",
            "Как 956\n",
            "Что 1710\n",
            "Какие 496\n",
            "Кто 1370\n",
            "Кого 253\n",
            "В каком 192\n",
            "Когда 391\n",
            "Чем 299\n",
            "Сколько 517\n",
            "Куда 163\n",
            "О чем 173\n",
            "Какая 177\n",
            "Какой 292\n",
            "15\n"
          ],
          "name": "stdout"
        }
      ]
    },
    {
      "cell_type": "code",
      "metadata": {
        "colab": {
          "base_uri": "https://localhost:8080/"
        },
        "id": "uM_nwRwBHiEs",
        "outputId": "251af3d5-e6a1-4d44-ba6e-921fb8e6c2bf"
      },
      "source": [
        "X_tr_place = X_or_train.copy()\r\n",
        "Y_tr_place = Y_or_train.copy()\r\n",
        "\r\n",
        "X_tr_Why = X_or_train.copy()\r\n",
        "Y_tr_Why = Y_or_train.copy()\r\n",
        "\r\n",
        "X_tr_What = X_or_train.copy()\r\n",
        "Y_tr_What = Y_or_train.copy()\r\n",
        "\r\n",
        "X_tr_How = X_or_train.copy()\r\n",
        "Y_tr_How = Y_or_train.copy()\r\n",
        "\r\n",
        "X_tr_Who = X_or_train.copy()\r\n",
        "Y_tr_Who = Y_or_train.copy()\r\n",
        "\r\n",
        "X_tr_When = X_or_train.copy()\r\n",
        "Y_tr_When = Y_or_train.copy()\r\n",
        "\r\n",
        "X_tr_Many = X_or_train.copy()\r\n",
        "Y_tr_Many = Y_or_train.copy()\r\n",
        "\r\n",
        "X_tr_Other = X_or_train.copy()\r\n",
        "Y_tr_Other = Y_or_train.copy()\r\n",
        "place = 0\r\n",
        "why = 0\r\n",
        "what = 0\r\n",
        "how = 0\r\n",
        "who = 0\r\n",
        "when = 0\r\n",
        "many = 0\r\n",
        "other = 0\r\n",
        "print(type(X_train))"
      ],
      "execution_count": null,
      "outputs": [
        {
          "output_type": "stream",
          "text": [
            "<class 'list'>\n"
          ],
          "name": "stdout"
        }
      ]
    },
    {
      "cell_type": "code",
      "metadata": {
        "id": "l185TM_qI_-l"
      },
      "source": [
        "def key_def(X):\r\n",
        "  key = X[X.find(\"Query\") + 7:X.find(\"Answer\") - 1].split()[0]\r\n",
        "  if len(key) == 1 or len(key) == 2:\r\n",
        "    key = X[X.find(\"Query\") + 7:X.find(\"Answer\") - 1].split()[0] + \" \" + X[X.find(\"Query\") + 7:X.find(\"Answer\") - 1].split()[1]\r\n",
        "  key = key.lower()\r\n",
        "  if key[-1] == ',' or key[-1] == \" \":\r\n",
        "    return key[:-1] \r\n",
        "  if key[-1] == ',' and key[-2] == \" \":\r\n",
        "    return key[:-2]  \r\n",
        "  return key"
      ],
      "execution_count": null,
      "outputs": []
    },
    {
      "cell_type": "code",
      "metadata": {
        "colab": {
          "base_uri": "https://localhost:8080/"
        },
        "id": "NsgpMsU2eUu6",
        "outputId": "cd28a236-e333-4824-8dab-90b64a593cb9"
      },
      "source": [
        "print(len(X_train))\r\n",
        "for i in range(len(X_train)):\r\n",
        "  el = X_train[i]\r\n",
        "  key = key_def(el)\r\n",
        "  if key == \"где\" or key == \"в каком\":\r\n",
        "    X_tr_place.append(el)\r\n",
        "    Y_tr_place.append(Y_train[i])\r\n",
        "  elif key == \"почему\":\r\n",
        "    X_tr_Why.append(el)\r\n",
        "    Y_tr_Why.append(Y_train[i])\r\n",
        "  elif key == \"что\" or key == \"чем\":\r\n",
        "    X_tr_What.append(el)\r\n",
        "    Y_tr_What.append(Y_train[i])\r\n",
        "  elif key == \"как\":\r\n",
        "    X_tr_How.append(el)\r\n",
        "    Y_tr_How.append(Y_train[i])\r\n",
        "  elif key == \"какие\" or key == \"какой\" or key == \"какая\" or key == \"какое\" or key == \"кто\" or key == \"каким\":\r\n",
        "    X_tr_Who.append(el)\r\n",
        "    Y_tr_Who.append(Y_train[i])\r\n",
        "  elif key == \"когда\":\r\n",
        "    X_tr_When.append(el)\r\n",
        "    Y_tr_When.append(Y_train[i])\r\n",
        "  elif key == \"сколько\":\r\n",
        "    X_tr_Many.append(el)\r\n",
        "    Y_tr_Many.append(Y_train[i])        \r\n",
        "  else:\r\n",
        "    X_tr_Other.append(el)\r\n",
        "    Y_tr_Other.append(Y_train[i])     \r\n",
        "print(len(X_tr_place), len(X_tr_Why), len(X_tr_What), len(X_tr_How), len(X_tr_Who), len(X_tr_When), len(X_tr_Many), len(X_tr_Other), \"Train DS\")"
      ],
      "execution_count": null,
      "outputs": [
        {
          "output_type": "stream",
          "text": [
            "11950\n",
            "12499 12583 13996 12916 14545 12346 12467 16198 Train DS\n"
          ],
          "name": "stdout"
        }
      ]
    },
    {
      "cell_type": "code",
      "metadata": {
        "colab": {
          "base_uri": "https://localhost:8080/"
        },
        "id": "o00y_6DAHVVl",
        "outputId": "1d424467-7e7d-416d-f88d-b228d964c5b5"
      },
      "source": [
        "X_train, Y_train = X_test, Y_test\r\n",
        "print(len(X_train))\r\n",
        "for i in range(len(X_train)):\r\n",
        "  el = X_train[i]\r\n",
        "  key = key_def(el)\r\n",
        "  if key == \"где\" or key == \"в каком\":\r\n",
        "    place += 1\r\n",
        "    X_tr_place.append(el)\r\n",
        "    Y_tr_place.append(Y_train[i])\r\n",
        "  elif key == \"почему\":\r\n",
        "    why += 1\r\n",
        "    X_tr_Why.append(el)\r\n",
        "    Y_tr_Why.append(Y_train[i])\r\n",
        "  elif key == \"что\" or key == \"чем\":\r\n",
        "    what += 1\r\n",
        "    X_tr_What.append(el)\r\n",
        "    Y_tr_What.append(Y_train[i])\r\n",
        "  elif key == \"как\":\r\n",
        "    how += 1\r\n",
        "    X_tr_How.append(el)\r\n",
        "    Y_tr_How.append(Y_train[i])\r\n",
        "  elif key == \"какие\" or key == \"какой\" or key == \"какая\" or key == \"какое\" or key == \"кто\" or key == \"каким\":\r\n",
        "    who += 1\r\n",
        "    X_tr_Who.append(el)\r\n",
        "    Y_tr_Who.append(Y_train[i])\r\n",
        "  elif key == \"когда\":\r\n",
        "    when += 1\r\n",
        "    X_tr_When.append(el)\r\n",
        "    Y_tr_When.append(Y_train[i])\r\n",
        "  elif key == \"сколько\":\r\n",
        "    many += 1\r\n",
        "    X_tr_Many.append(el)\r\n",
        "    Y_tr_Many.append(Y_train[i])        \r\n",
        "  else:\r\n",
        "    other += 1\r\n",
        "    X_tr_Other.append(el)\r\n",
        "    Y_tr_Other.append(Y_train[i])     \r\n",
        "print(place, why, what, how, who, when, many, other)\r\n",
        "print(len(X_tr_place), len(X_tr_Why), len(X_tr_What), len(X_tr_How), len(X_tr_Who), len(X_tr_When), len(X_tr_Many), len(X_tr_Other), \"Test DS\")\r\n"
      ],
      "execution_count": null,
      "outputs": [
        {
          "output_type": "stream",
          "text": [
            "2235\n",
            "111 152 338 204 530 46 69 785\n",
            "12610 12735 14334 13120 15075 12392 12536 16983 Test DS\n"
          ],
          "name": "stdout"
        }
      ]
    },
    {
      "cell_type": "code",
      "metadata": {
        "id": "v1B-Wl3zdHpQ"
      },
      "source": [
        "rs = 42\r\n",
        "koef = 0.9\r\n",
        "\r\n",
        "clf1 = LogisticRegression(random_state=rs)   \r\n",
        "clf2 = RandomForestClassifier(random_state=rs, n_jobs =-1)\r\n",
        "clf3 = SGDClassifier()\r\n",
        "clf4 = SVC(random_state =rs)\r\n",
        "clf5 = DecisionTreeClassifier(random_state=rs)\r\n",
        "clf6 =  SVC(class_weight=\"balanced\", random_state =rs)\r\n",
        "clf7 = DecisionTreeClassifier()\r\n",
        "clf8 = ExtraTreeClassifier()\r\n",
        "clflist = [clf1, clf2, clf3, clf4, clf5, clf6, clf7, clf8]"
      ],
      "execution_count": null,
      "outputs": []
    },
    {
      "cell_type": "code",
      "metadata": {
        "id": "zzEFxR3FAH7C"
      },
      "source": [
        "X_train = X_tr_place[:len(X_tr_place) - int(koef * len(X_tr_place))]\r\n",
        "X_test = X_tr_place[len(X_tr_place) - int(koef * len(X_tr_place)):]\r\n",
        "Y_train = Y_tr_place[:len(Y_tr_place) - int(koef * len(Y_tr_place))]\r\n",
        "Y_test = Y_tr_place[len(Y_tr_place) - int(koef * len(Y_tr_place)):]"
      ],
      "execution_count": null,
      "outputs": []
    },
    {
      "cell_type": "code",
      "metadata": {
        "colab": {
          "base_uri": "https://localhost:8080/",
          "height": 1000
        },
        "id": "JVSV5c3-dHsM",
        "outputId": "9361facc-b7ab-43b5-cddc-ec368c08cf41"
      },
      "source": [
        "for classif in clflist:\r\n",
        "    clf_place = Pipeline([\r\n",
        "    ('vect', CountVectorizer(ngram_range=(1,3), analyzer='word', max_features=10000)),\r\n",
        "    ('tfidf', TfidfTransformer(sublinear_tf=True)),\r\n",
        "    #('reducer', TruncatedSVD(n_components=Val3)),\r\n",
        "    ('clf_place', classif),\r\n",
        "    ])\r\n",
        "    clf_place.fit(X_train, Y_train)\r\n",
        "    predictions = clf_place.predict(X_test)\r\n",
        "    print(classif)\r\n",
        "    print(\"Precision: {0:6.2f}\".format(precision_score(Y_test, predictions, average='macro')))\r\n",
        "    print(\"Recall: {0:6.2f}\".format(recall_score(Y_test, predictions, average='macro')))\r\n",
        "    print(\"F1-measure: {0:6.2f}\".format(f1_score(Y_test, predictions, average='macro')))\r\n",
        "    print(\"Accuracy: {0:6.2f}\".format(accuracy_score(Y_test, predictions)))\r\n",
        "    print(classification_report(Y_test, predictions))\r\n",
        "    labels = clf_place.classes_\r\n",
        "    sns.heatmap(data=confusion_matrix(Y_test, predictions), annot=True, fmt=\"d\", cbar=False, xticklabels=labels, yticklabels=labels)\r\n",
        "    plt.title(\"Confusion matrix\")\r\n",
        "    plt.show()"
      ],
      "execution_count": null,
      "outputs": [
        {
          "output_type": "stream",
          "text": [
            "LogisticRegression(C=1.0, class_weight=None, dual=False, fit_intercept=True,\n",
            "                   intercept_scaling=1, l1_ratio=None, max_iter=100,\n",
            "                   multi_class='auto', n_jobs=None, penalty='l2',\n",
            "                   random_state=42, solver='lbfgs', tol=0.0001, verbose=0,\n",
            "                   warm_start=False)\n",
            "Precision:   0.27\n",
            "Recall:   0.50\n",
            "F1-measure:   0.35\n",
            "Accuracy:   0.55\n",
            "              precision    recall  f1-score   support\n",
            "\n",
            "           0       0.55      1.00      0.71      6230\n",
            "           1       0.00      0.00      0.00      5119\n",
            "\n",
            "    accuracy                           0.55     11349\n",
            "   macro avg       0.27      0.50      0.35     11349\n",
            "weighted avg       0.30      0.55      0.39     11349\n",
            "\n"
          ],
          "name": "stdout"
        },
        {
          "output_type": "stream",
          "text": [
            "/usr/local/lib/python3.6/dist-packages/sklearn/metrics/_classification.py:1272: UndefinedMetricWarning: Precision is ill-defined and being set to 0.0 in labels with no predicted samples. Use `zero_division` parameter to control this behavior.\n",
            "  _warn_prf(average, modifier, msg_start, len(result))\n",
            "/usr/local/lib/python3.6/dist-packages/sklearn/metrics/_classification.py:1272: UndefinedMetricWarning: Precision and F-score are ill-defined and being set to 0.0 in labels with no predicted samples. Use `zero_division` parameter to control this behavior.\n",
            "  _warn_prf(average, modifier, msg_start, len(result))\n"
          ],
          "name": "stderr"
        },
        {
          "output_type": "display_data",
          "data": {
            "image/png": "[encoded data removed]",
            "text/plain": [
              "<Figure size 432x288 with 1 Axes>"
            ]
          },
          "metadata": {
            "tags": [],
            "needs_background": "light"
          }
        },
        {
          "output_type": "stream",
          "text": [
            "RandomForestClassifier(bootstrap=True, ccp_alpha=0.0, class_weight=None,\n",
            "                       criterion='gini', max_depth=None, max_features='auto',\n",
            "                       max_leaf_nodes=None, max_samples=None,\n",
            "                       min_impurity_decrease=0.0, min_impurity_split=None,\n",
            "                       min_samples_leaf=1, min_samples_split=2,\n",
            "                       min_weight_fraction_leaf=0.0, n_estimators=100,\n",
            "                       n_jobs=-1, oob_score=False, random_state=42, verbose=0,\n",
            "                       warm_start=False)\n",
            "Precision:   0.51\n",
            "Recall:   0.51\n",
            "F1-measure:   0.50\n",
            "Accuracy:   0.50\n",
            "              precision    recall  f1-score   support\n",
            "\n",
            "           0       0.55      0.47      0.51      6230\n",
            "           1       0.46      0.54      0.50      5119\n",
            "\n",
            "    accuracy                           0.50     11349\n",
            "   macro avg       0.51      0.51      0.50     11349\n",
            "weighted avg       0.51      0.50      0.50     11349\n",
            "\n"
          ],
          "name": "stdout"
        },
        {
          "output_type": "display_data",
          "data": {
            "image/png": "[encoded data removed]",
            "text/plain": [
              "<Figure size 432x288 with 1 Axes>"
            ]
          },
          "metadata": {
            "tags": [],
            "needs_background": "light"
          }
        },
        {
          "output_type": "stream",
          "text": [
            "SGDClassifier(alpha=0.0001, average=False, class_weight=None,\n",
            "              early_stopping=False, epsilon=0.1, eta0=0.0, fit_intercept=True,\n",
            "              l1_ratio=0.15, learning_rate='optimal', loss='hinge',\n",
            "              max_iter=1000, n_iter_no_change=5, n_jobs=None, penalty='l2',\n",
            "              power_t=0.5, random_state=None, shuffle=True, tol=0.001,\n",
            "              validation_fraction=0.1, verbose=0, warm_start=False)\n",
            "Precision:   0.55\n",
            "Recall:   0.50\n",
            "F1-measure:   0.36\n",
            "Accuracy:   0.55\n",
            "              precision    recall  f1-score   support\n",
            "\n",
            "           0       0.55      1.00      0.71      6230\n",
            "           1       0.56      0.00      0.01      5119\n",
            "\n",
            "    accuracy                           0.55     11349\n",
            "   macro avg       0.55      0.50      0.36     11349\n",
            "weighted avg       0.55      0.55      0.39     11349\n",
            "\n"
          ],
          "name": "stdout"
        },
        {
          "output_type": "display_data",
          "data": {
            "image/png": "[encoded data removed]",
            "text/plain": [
              "<Figure size 432x288 with 1 Axes>"
            ]
          },
          "metadata": {
            "tags": [],
            "needs_background": "light"
          }
        },
        {
          "output_type": "stream",
          "text": [
            "SVC(C=1.0, break_ties=False, cache_size=200, class_weight=None, coef0=0.0,\n",
            "    decision_function_shape='ovr', degree=3, gamma='scale', kernel='rbf',\n",
            "    max_iter=-1, probability=False, random_state=42, shrinking=True, tol=0.001,\n",
            "    verbose=False)\n",
            "Precision:   0.27\n",
            "Recall:   0.50\n",
            "F1-measure:   0.35\n",
            "Accuracy:   0.55\n",
            "              precision    recall  f1-score   support\n",
            "\n",
            "           0       0.55      1.00      0.71      6230\n",
            "           1       0.00      0.00      0.00      5119\n",
            "\n",
            "    accuracy                           0.55     11349\n",
            "   macro avg       0.27      0.50      0.35     11349\n",
            "weighted avg       0.30      0.55      0.39     11349\n",
            "\n"
          ],
          "name": "stdout"
        },
        {
          "output_type": "stream",
          "text": [
            "/usr/local/lib/python3.6/dist-packages/sklearn/metrics/_classification.py:1272: UndefinedMetricWarning: Precision is ill-defined and being set to 0.0 in labels with no predicted samples. Use `zero_division` parameter to control this behavior.\n",
            "  _warn_prf(average, modifier, msg_start, len(result))\n",
            "/usr/local/lib/python3.6/dist-packages/sklearn/metrics/_classification.py:1272: UndefinedMetricWarning: Precision and F-score are ill-defined and being set to 0.0 in labels with no predicted samples. Use `zero_division` parameter to control this behavior.\n",
            "  _warn_prf(average, modifier, msg_start, len(result))\n"
          ],
          "name": "stderr"
        },
        {
          "output_type": "display_data",
          "data": {
            "image/png": "[encoded data removed]",
            "text/plain": [
              "<Figure size 432x288 with 1 Axes>"
            ]
          },
          "metadata": {
            "tags": [],
            "needs_background": "light"
          }
        },
        {
          "output_type": "stream",
          "text": [
            "DecisionTreeClassifier(ccp_alpha=0.0, class_weight=None, criterion='gini',\n",
            "                       max_depth=None, max_features=None, max_leaf_nodes=None,\n",
            "                       min_impurity_decrease=0.0, min_impurity_split=None,\n",
            "                       min_samples_leaf=1, min_samples_split=2,\n",
            "                       min_weight_fraction_leaf=0.0, presort='deprecated',\n",
            "                       random_state=42, splitter='best')\n",
            "Precision:   0.50\n",
            "Recall:   0.50\n",
            "F1-measure:   0.48\n",
            "Accuracy:   0.49\n",
            "              precision    recall  f1-score   support\n",
            "\n",
            "           0       0.55      0.35      0.43      6230\n",
            "           1       0.45      0.65      0.53      5119\n",
            "\n",
            "    accuracy                           0.49     11349\n",
            "   macro avg       0.50      0.50      0.48     11349\n",
            "weighted avg       0.51      0.49      0.48     11349\n",
            "\n"
          ],
          "name": "stdout"
        },
        {
          "output_type": "display_data",
          "data": {
            "image/png": "[encoded data removed]",
            "text/plain": [
              "<Figure size 432x288 with 1 Axes>"
            ]
          },
          "metadata": {
            "tags": [],
            "needs_background": "light"
          }
        },
        {
          "output_type": "stream",
          "text": [
            "SVC(C=1.0, break_ties=False, cache_size=200, class_weight='balanced', coef0=0.0,\n",
            "    decision_function_shape='ovr', degree=3, gamma='scale', kernel='rbf',\n",
            "    max_iter=-1, probability=False, random_state=42, shrinking=True, tol=0.001,\n",
            "    verbose=False)\n",
            "Precision:   0.50\n",
            "Recall:   0.50\n",
            "F1-measure:   0.43\n",
            "Accuracy:   0.47\n",
            "              precision    recall  f1-score   support\n",
            "\n",
            "           0       0.56      0.18      0.27      6230\n",
            "           1       0.45      0.83      0.59      5119\n",
            "\n",
            "    accuracy                           0.47     11349\n",
            "   macro avg       0.50      0.50      0.43     11349\n",
            "weighted avg       0.51      0.47      0.41     11349\n",
            "\n"
          ],
          "name": "stdout"
        },
        {
          "output_type": "display_data",
          "data": {
            "image/png": "[encoded data removed]",
            "text/plain": [
              "<Figure size 432x288 with 1 Axes>"
            ]
          },
          "metadata": {
            "tags": [],
            "needs_background": "light"
          }
        },
        {
          "output_type": "stream",
          "text": [
            "DecisionTreeClassifier(ccp_alpha=0.0, class_weight=None, criterion='gini',\n",
            "                       max_depth=None, max_features=None, max_leaf_nodes=None,\n",
            "                       min_impurity_decrease=0.0, min_impurity_split=None,\n",
            "                       min_samples_leaf=1, min_samples_split=2,\n",
            "                       min_weight_fraction_leaf=0.0, presort='deprecated',\n",
            "                       random_state=None, splitter='best')\n",
            "Precision:   0.50\n",
            "Recall:   0.50\n",
            "F1-measure:   0.49\n",
            "Accuracy:   0.49\n",
            "              precision    recall  f1-score   support\n",
            "\n",
            "           0       0.55      0.43      0.48      6230\n",
            "           1       0.45      0.57      0.50      5119\n",
            "\n",
            "    accuracy                           0.49     11349\n",
            "   macro avg       0.50      0.50      0.49     11349\n",
            "weighted avg       0.50      0.49      0.49     11349\n",
            "\n"
          ],
          "name": "stdout"
        },
        {
          "output_type": "display_data",
          "data": {
            "image/png": "[encoded data removed]",
            "text/plain": [
              "<Figure size 432x288 with 1 Axes>"
            ]
          },
          "metadata": {
            "tags": [],
            "needs_background": "light"
          }
        },
        {
          "output_type": "stream",
          "text": [
            "ExtraTreeClassifier(ccp_alpha=0.0, class_weight=None, criterion='gini',\n",
            "                    max_depth=None, max_features='auto', max_leaf_nodes=None,\n",
            "                    min_impurity_decrease=0.0, min_impurity_split=None,\n",
            "                    min_samples_leaf=1, min_samples_split=2,\n",
            "                    min_weight_fraction_leaf=0.0, random_state=None,\n",
            "                    splitter='random')\n",
            "Precision:   0.50\n",
            "Recall:   0.50\n",
            "F1-measure:   0.50\n",
            "Accuracy:   0.51\n",
            "              precision    recall  f1-score   support\n",
            "\n",
            "           0       0.55      0.56      0.56      6230\n",
            "           1       0.45      0.44      0.45      5119\n",
            "\n",
            "    accuracy                           0.51     11349\n",
            "   macro avg       0.50      0.50      0.50     11349\n",
            "weighted avg       0.51      0.51      0.51     11349\n",
            "\n"
          ],
          "name": "stdout"
        },
        {
          "output_type": "display_data",
          "data": {
            "image/png": "[encoded data removed]",
            "text/plain": [
              "<Figure size 432x288 with 1 Axes>"
            ]
          },
          "metadata": {
            "tags": [],
            "needs_background": "light"
          }
        }
      ]
    },
    {
      "cell_type": "code",
      "metadata": {
        "id": "SSDQOxE6-Gyp"
      },
      "source": [
        "X_train = X_tr_Why[:len(X_tr_Why) - int(koef * len(X_tr_Why))]\r\n",
        "X_test = X_tr_Why[len(X_tr_Why) - int(koef * len(X_tr_Why)):]\r\n",
        "Y_train = Y_tr_Why[:len(Y_tr_Why) - int(koef * len(Y_tr_Why))]\r\n",
        "Y_test = Y_tr_Why[len(Y_tr_Why) - int(koef * len(Y_tr_Why)):]"
      ],
      "execution_count": null,
      "outputs": []
    },
    {
      "cell_type": "code",
      "metadata": {
        "colab": {
          "base_uri": "https://localhost:8080/",
          "height": 1000
        },
        "id": "g6GlcbgSw-Bd",
        "outputId": "0e9cb138-a525-4ef8-ce85-119c9ab50eb6"
      },
      "source": [
        "for classif in clflist:\r\n",
        "    clf_Why = Pipeline([\r\n",
        "    ('vect', CountVectorizer(ngram_range=(1,3), analyzer='word', max_features=10000)),\r\n",
        "    ('tfidf', TfidfTransformer(sublinear_tf=True)),\r\n",
        "    #('reducer', TruncatedSVD(n_components=Val3)),\r\n",
        "    ('clf_Why', classif),\r\n",
        "    ])\r\n",
        "    clf_Why.fit(X_train, Y_train)\r\n",
        "    predictions = clf_place.predict(X_test)\r\n",
        "    print(classif)\r\n",
        "    print(\"Precision: {0:6.2f}\".format(precision_score(Y_test, predictions, average='macro')))\r\n",
        "    print(\"Recall: {0:6.2f}\".format(recall_score(Y_test, predictions, average='macro')))\r\n",
        "    print(\"F1-measure: {0:6.2f}\".format(f1_score(Y_test, predictions, average='macro')))\r\n",
        "    print(\"Accuracy: {0:6.2f}\".format(accuracy_score(Y_test, predictions)))\r\n",
        "    print(classification_report(Y_test, predictions))\r\n",
        "    labels = clf_Why.classes_\r\n",
        "    sns.heatmap(data=confusion_matrix(Y_test, predictions), annot=True, fmt=\"d\", cbar=False, xticklabels=labels, yticklabels=labels)\r\n",
        "    plt.title(\"Confusion matrix\")\r\n",
        "    plt.show()"
      ],
      "execution_count": null,
      "outputs": [
        {
          "output_type": "stream",
          "text": [
            "LogisticRegression(C=1.0, class_weight=None, dual=False, fit_intercept=True,\n",
            "                   intercept_scaling=1, l1_ratio=None, max_iter=100,\n",
            "                   multi_class='auto', n_jobs=None, penalty='l2',\n",
            "                   random_state=42, solver='lbfgs', tol=0.0001, verbose=0,\n",
            "                   warm_start=False)\n",
            "Precision:   0.50\n",
            "Recall:   0.50\n",
            "F1-measure:   0.50\n",
            "Accuracy:   0.51\n",
            "              precision    recall  f1-score   support\n",
            "\n",
            "           0       0.55      0.57      0.56      6278\n",
            "           1       0.46      0.43      0.44      5183\n",
            "\n",
            "    accuracy                           0.51     11461\n",
            "   macro avg       0.50      0.50      0.50     11461\n",
            "weighted avg       0.51      0.51      0.51     11461\n",
            "\n"
          ],
          "name": "stdout"
        },
        {
          "output_type": "display_data",
          "data": {
            "image/png": "[encoded data removed]",
            "text/plain": [
              "<Figure size 432x288 with 1 Axes>"
            ]
          },
          "metadata": {
            "tags": [],
            "needs_background": "light"
          }
        },
        {
          "output_type": "stream",
          "text": [
            "RandomForestClassifier(bootstrap=True, ccp_alpha=0.0, class_weight=None,\n",
            "                       criterion='gini', max_depth=None, max_features='auto',\n",
            "                       max_leaf_nodes=None, max_samples=None,\n",
            "                       min_impurity_decrease=0.0, min_impurity_split=None,\n",
            "                       min_samples_leaf=1, min_samples_split=2,\n",
            "                       min_weight_fraction_leaf=0.0, n_estimators=100,\n",
            "                       n_jobs=-1, oob_score=False, random_state=42, verbose=0,\n",
            "                       warm_start=False)\n",
            "Precision:   0.50\n",
            "Recall:   0.50\n",
            "F1-measure:   0.50\n",
            "Accuracy:   0.51\n",
            "              precision    recall  f1-score   support\n",
            "\n",
            "           0       0.55      0.57      0.56      6278\n",
            "           1       0.46      0.43      0.44      5183\n",
            "\n",
            "    accuracy                           0.51     11461\n",
            "   macro avg       0.50      0.50      0.50     11461\n",
            "weighted avg       0.51      0.51      0.51     11461\n",
            "\n"
          ],
          "name": "stdout"
        },
        {
          "output_type": "display_data",
          "data": {
            "image/png": "[encoded data removed]",
            "text/plain": [
              "<Figure size 432x288 with 1 Axes>"
            ]
          },
          "metadata": {
            "tags": [],
            "needs_background": "light"
          }
        },
        {
          "output_type": "stream",
          "text": [
            "SGDClassifier(alpha=0.0001, average=False, class_weight=None,\n",
            "              early_stopping=False, epsilon=0.1, eta0=0.0, fit_intercept=True,\n",
            "              l1_ratio=0.15, learning_rate='optimal', loss='hinge',\n",
            "              max_iter=1000, n_iter_no_change=5, n_jobs=None, penalty='l2',\n",
            "              power_t=0.5, random_state=None, shuffle=True, tol=0.001,\n",
            "              validation_fraction=0.1, verbose=0, warm_start=False)\n",
            "Precision:   0.50\n",
            "Recall:   0.50\n",
            "F1-measure:   0.50\n",
            "Accuracy:   0.51\n",
            "              precision    recall  f1-score   support\n",
            "\n",
            "           0       0.55      0.57      0.56      6278\n",
            "           1       0.46      0.43      0.44      5183\n",
            "\n",
            "    accuracy                           0.51     11461\n",
            "   macro avg       0.50      0.50      0.50     11461\n",
            "weighted avg       0.51      0.51      0.51     11461\n",
            "\n"
          ],
          "name": "stdout"
        },
        {
          "output_type": "display_data",
          "data": {
            "image/png": "[encoded data removed]",
            "text/plain": [
              "<Figure size 432x288 with 1 Axes>"
            ]
          },
          "metadata": {
            "tags": [],
            "needs_background": "light"
          }
        },
        {
          "output_type": "stream",
          "text": [
            "SVC(C=1.0, break_ties=False, cache_size=200, class_weight=None, coef0=0.0,\n",
            "    decision_function_shape='ovr', degree=3, gamma='scale', kernel='rbf',\n",
            "    max_iter=-1, probability=False, random_state=42, shrinking=True, tol=0.001,\n",
            "    verbose=False)\n",
            "Precision:   0.50\n",
            "Recall:   0.50\n",
            "F1-measure:   0.50\n",
            "Accuracy:   0.51\n",
            "              precision    recall  f1-score   support\n",
            "\n",
            "           0       0.55      0.57      0.56      6278\n",
            "           1       0.46      0.43      0.44      5183\n",
            "\n",
            "    accuracy                           0.51     11461\n",
            "   macro avg       0.50      0.50      0.50     11461\n",
            "weighted avg       0.51      0.51      0.51     11461\n",
            "\n"
          ],
          "name": "stdout"
        },
        {
          "output_type": "display_data",
          "data": {
            "image/png": "[encoded data removed]",
            "text/plain": [
              "<Figure size 432x288 with 1 Axes>"
            ]
          },
          "metadata": {
            "tags": [],
            "needs_background": "light"
          }
        },
        {
          "output_type": "stream",
          "text": [
            "DecisionTreeClassifier(ccp_alpha=0.0, class_weight=None, criterion='gini',\n",
            "                       max_depth=None, max_features=None, max_leaf_nodes=None,\n",
            "                       min_impurity_decrease=0.0, min_impurity_split=None,\n",
            "                       min_samples_leaf=1, min_samples_split=2,\n",
            "                       min_weight_fraction_leaf=0.0, presort='deprecated',\n",
            "                       random_state=42, splitter='best')\n",
            "Precision:   0.50\n",
            "Recall:   0.50\n",
            "F1-measure:   0.50\n",
            "Accuracy:   0.51\n",
            "              precision    recall  f1-score   support\n",
            "\n",
            "           0       0.55      0.57      0.56      6278\n",
            "           1       0.46      0.43      0.44      5183\n",
            "\n",
            "    accuracy                           0.51     11461\n",
            "   macro avg       0.50      0.50      0.50     11461\n",
            "weighted avg       0.51      0.51      0.51     11461\n",
            "\n"
          ],
          "name": "stdout"
        },
        {
          "output_type": "display_data",
          "data": {
            "image/png": "[encoded data removed]",
            "text/plain": [
              "<Figure size 432x288 with 1 Axes>"
            ]
          },
          "metadata": {
            "tags": [],
            "needs_background": "light"
          }
        },
        {
          "output_type": "stream",
          "text": [
            "SVC(C=1.0, break_ties=False, cache_size=200, class_weight='balanced', coef0=0.0,\n",
            "    decision_function_shape='ovr', degree=3, gamma='scale', kernel='rbf',\n",
            "    max_iter=-1, probability=False, random_state=42, shrinking=True, tol=0.001,\n",
            "    verbose=False)\n",
            "Precision:   0.50\n",
            "Recall:   0.50\n",
            "F1-measure:   0.50\n",
            "Accuracy:   0.51\n",
            "              precision    recall  f1-score   support\n",
            "\n",
            "           0       0.55      0.57      0.56      6278\n",
            "           1       0.46      0.43      0.44      5183\n",
            "\n",
            "    accuracy                           0.51     11461\n",
            "   macro avg       0.50      0.50      0.50     11461\n",
            "weighted avg       0.51      0.51      0.51     11461\n",
            "\n"
          ],
          "name": "stdout"
        },
        {
          "output_type": "display_data",
          "data": {
            "image/png": "[encoded data removed]",
            "text/plain": [
              "<Figure size 432x288 with 1 Axes>"
            ]
          },
          "metadata": {
            "tags": [],
            "needs_background": "light"
          }
        },
        {
          "output_type": "stream",
          "text": [
            "DecisionTreeClassifier(ccp_alpha=0.0, class_weight=None, criterion='gini',\n",
            "                       max_depth=None, max_features=None, max_leaf_nodes=None,\n",
            "                       min_impurity_decrease=0.0, min_impurity_split=None,\n",
            "                       min_samples_leaf=1, min_samples_split=2,\n",
            "                       min_weight_fraction_leaf=0.0, presort='deprecated',\n",
            "                       random_state=None, splitter='best')\n",
            "Precision:   0.50\n",
            "Recall:   0.50\n",
            "F1-measure:   0.50\n",
            "Accuracy:   0.51\n",
            "              precision    recall  f1-score   support\n",
            "\n",
            "           0       0.55      0.57      0.56      6278\n",
            "           1       0.46      0.43      0.44      5183\n",
            "\n",
            "    accuracy                           0.51     11461\n",
            "   macro avg       0.50      0.50      0.50     11461\n",
            "weighted avg       0.51      0.51      0.51     11461\n",
            "\n"
          ],
          "name": "stdout"
        },
        {
          "output_type": "display_data",
          "data": {
            "image/png": "[encoded data removed]",
            "text/plain": [
              "<Figure size 432x288 with 1 Axes>"
            ]
          },
          "metadata": {
            "tags": [],
            "needs_background": "light"
          }
        },
        {
          "output_type": "stream",
          "text": [
            "ExtraTreeClassifier(ccp_alpha=0.0, class_weight=None, criterion='gini',\n",
            "                    max_depth=None, max_features='auto', max_leaf_nodes=None,\n",
            "                    min_impurity_decrease=0.0, min_impurity_split=None,\n",
            "                    min_samples_leaf=1, min_samples_split=2,\n",
            "                    min_weight_fraction_leaf=0.0, random_state=None,\n",
            "                    splitter='random')\n",
            "Precision:   0.50\n",
            "Recall:   0.50\n",
            "F1-measure:   0.50\n",
            "Accuracy:   0.50\n",
            "              precision    recall  f1-score   support\n",
            "\n",
            "           0       0.55      0.47      0.50      6278\n",
            "           1       0.45      0.53      0.49      5183\n",
            "\n",
            "    accuracy                           0.50     11461\n",
            "   macro avg       0.50      0.50      0.50     11461\n",
            "weighted avg       0.50      0.50      0.50     11461\n",
            "\n"
          ],
          "name": "stdout"
        },
        {
          "output_type": "display_data",
          "data": {
            "image/png": "[encoded data removed]",
            "text/plain": [
              "<Figure size 432x288 with 1 Axes>"
            ]
          },
          "metadata": {
            "tags": [],
            "needs_background": "light"
          }
        }
      ]
    },
    {
      "cell_type": "code",
      "metadata": {
        "id": "fuIZ3w-U-JTZ"
      },
      "source": [
        "X_train = X_tr_What[:len(X_tr_What) - int(koef * len(X_tr_What))]\r\n",
        "X_test = X_tr_What[len(X_tr_What) - int(koef * len(X_tr_What)):]\r\n",
        "Y_train = Y_tr_What[:len(Y_tr_What) - int(koef * len(Y_tr_What))]\r\n",
        "Y_test = Y_tr_What[len(Y_tr_What) - int(koef * len(Y_tr_What)):]"
      ],
      "execution_count": null,
      "outputs": []
    },
    {
      "cell_type": "code",
      "metadata": {
        "colab": {
          "base_uri": "https://localhost:8080/",
          "height": 1000
        },
        "id": "OBM-uV4hc3-p",
        "outputId": "50b9b7ea-d3f5-4797-c2e2-82646828887d"
      },
      "source": [
        "for classif in clflist:\r\n",
        "    clf_What = Pipeline([\r\n",
        "    ('vect', CountVectorizer(ngram_range=(1,3), analyzer='word', max_features=10000)),\r\n",
        "    ('tfidf', TfidfTransformer(sublinear_tf=True)),\r\n",
        "    #('reducer', TruncatedSVD(n_components=Val3)),\r\n",
        "    ('clf_What', classif),\r\n",
        "    ])\r\n",
        "    clf_What.fit(X_train, Y_train)\r\n",
        "    predictions = clf_place.predict(X_test)\r\n",
        "    print(classif)\r\n",
        "    print(\"Precision: {0:6.2f}\".format(precision_score(Y_test, predictions, average='macro')))\r\n",
        "    print(\"Recall: {0:6.2f}\".format(recall_score(Y_test, predictions, average='macro')))\r\n",
        "    print(\"F1-measure: {0:6.2f}\".format(f1_score(Y_test, predictions, average='macro')))\r\n",
        "    print(\"Accuracy: {0:6.2f}\".format(accuracy_score(Y_test, predictions)))\r\n",
        "    print(classification_report(Y_test, predictions))\r\n",
        "    labels = clf_What.classes_\r\n",
        "    sns.heatmap(data=confusion_matrix(Y_test, predictions), annot=True, fmt=\"d\", cbar=False, xticklabels=labels, yticklabels=labels)\r\n",
        "    plt.title(\"Confusion matrix\")\r\n",
        "    plt.show()"
      ],
      "execution_count": null,
      "outputs": [
        {
          "output_type": "stream",
          "text": [
            "LogisticRegression(C=1.0, class_weight=None, dual=False, fit_intercept=True,\n",
            "                   intercept_scaling=1, l1_ratio=None, max_iter=100,\n",
            "                   multi_class='auto', n_jobs=None, penalty='l2',\n",
            "                   random_state=42, solver='lbfgs', tol=0.0001, verbose=0,\n",
            "                   warm_start=False)\n",
            "Precision:   0.50\n",
            "Recall:   0.50\n",
            "F1-measure:   0.50\n",
            "Accuracy:   0.50\n",
            "              precision    recall  f1-score   support\n",
            "\n",
            "           0       0.54      0.48      0.51      7029\n",
            "           1       0.46      0.52      0.49      5871\n",
            "\n",
            "    accuracy                           0.50     12900\n",
            "   macro avg       0.50      0.50      0.50     12900\n",
            "weighted avg       0.50      0.50      0.50     12900\n",
            "\n"
          ],
          "name": "stdout"
        },
        {
          "output_type": "display_data",
          "data": {
            "image/png": "[encoded data removed]",
            "text/plain": [
              "<Figure size 432x288 with 1 Axes>"
            ]
          },
          "metadata": {
            "tags": [],
            "needs_background": "light"
          }
        },
        {
          "output_type": "stream",
          "text": [
            "RandomForestClassifier(bootstrap=True, ccp_alpha=0.0, class_weight=None,\n",
            "                       criterion='gini', max_depth=None, max_features='auto',\n",
            "                       max_leaf_nodes=None, max_samples=None,\n",
            "                       min_impurity_decrease=0.0, min_impurity_split=None,\n",
            "                       min_samples_leaf=1, min_samples_split=2,\n",
            "                       min_weight_fraction_leaf=0.0, n_estimators=100,\n",
            "                       n_jobs=-1, oob_score=False, random_state=42, verbose=0,\n",
            "                       warm_start=False)\n",
            "Precision:   0.50\n",
            "Recall:   0.50\n",
            "F1-measure:   0.50\n",
            "Accuracy:   0.50\n",
            "              precision    recall  f1-score   support\n",
            "\n",
            "           0       0.54      0.48      0.51      7029\n",
            "           1       0.46      0.52      0.49      5871\n",
            "\n",
            "    accuracy                           0.50     12900\n",
            "   macro avg       0.50      0.50      0.50     12900\n",
            "weighted avg       0.50      0.50      0.50     12900\n",
            "\n"
          ],
          "name": "stdout"
        },
        {
          "output_type": "display_data",
          "data": {
            "image/png": "[encoded data removed]",
            "text/plain": [
              "<Figure size 432x288 with 1 Axes>"
            ]
          },
          "metadata": {
            "tags": [],
            "needs_background": "light"
          }
        },
        {
          "output_type": "stream",
          "text": [
            "SGDClassifier(alpha=0.0001, average=False, class_weight=None,\n",
            "              early_stopping=False, epsilon=0.1, eta0=0.0, fit_intercept=True,\n",
            "              l1_ratio=0.15, learning_rate='optimal', loss='hinge',\n",
            "              max_iter=1000, n_iter_no_change=5, n_jobs=None, penalty='l2',\n",
            "              power_t=0.5, random_state=None, shuffle=True, tol=0.001,\n",
            "              validation_fraction=0.1, verbose=0, warm_start=False)\n",
            "Precision:   0.50\n",
            "Recall:   0.50\n",
            "F1-measure:   0.50\n",
            "Accuracy:   0.50\n",
            "              precision    recall  f1-score   support\n",
            "\n",
            "           0       0.54      0.48      0.51      7029\n",
            "           1       0.46      0.52      0.49      5871\n",
            "\n",
            "    accuracy                           0.50     12900\n",
            "   macro avg       0.50      0.50      0.50     12900\n",
            "weighted avg       0.50      0.50      0.50     12900\n",
            "\n"
          ],
          "name": "stdout"
        },
        {
          "output_type": "display_data",
          "data": {
            "image/png": "[encoded data removed]",
            "text/plain": [
              "<Figure size 432x288 with 1 Axes>"
            ]
          },
          "metadata": {
            "tags": [],
            "needs_background": "light"
          }
        },
        {
          "output_type": "stream",
          "text": [
            "SVC(C=1.0, break_ties=False, cache_size=200, class_weight=None, coef0=0.0,\n",
            "    decision_function_shape='ovr', degree=3, gamma='scale', kernel='rbf',\n",
            "    max_iter=-1, probability=False, random_state=42, shrinking=True, tol=0.001,\n",
            "    verbose=False)\n",
            "Precision:   0.50\n",
            "Recall:   0.50\n",
            "F1-measure:   0.50\n",
            "Accuracy:   0.50\n",
            "              precision    recall  f1-score   support\n",
            "\n",
            "           0       0.54      0.48      0.51      7029\n",
            "           1       0.46      0.52      0.49      5871\n",
            "\n",
            "    accuracy                           0.50     12900\n",
            "   macro avg       0.50      0.50      0.50     12900\n",
            "weighted avg       0.50      0.50      0.50     12900\n",
            "\n"
          ],
          "name": "stdout"
        },
        {
          "output_type": "display_data",
          "data": {
            "image/png": "[encoded data removed]",
            "text/plain": [
              "<Figure size 432x288 with 1 Axes>"
            ]
          },
          "metadata": {
            "tags": [],
            "needs_background": "light"
          }
        },
        {
          "output_type": "stream",
          "text": [
            "DecisionTreeClassifier(ccp_alpha=0.0, class_weight=None, criterion='gini',\n",
            "                       max_depth=None, max_features=None, max_leaf_nodes=None,\n",
            "                       min_impurity_decrease=0.0, min_impurity_split=None,\n",
            "                       min_samples_leaf=1, min_samples_split=2,\n",
            "                       min_weight_fraction_leaf=0.0, presort='deprecated',\n",
            "                       random_state=42, splitter='best')\n",
            "Precision:   0.50\n",
            "Recall:   0.50\n",
            "F1-measure:   0.50\n",
            "Accuracy:   0.50\n",
            "              precision    recall  f1-score   support\n",
            "\n",
            "           0       0.54      0.48      0.51      7029\n",
            "           1       0.46      0.52      0.49      5871\n",
            "\n",
            "    accuracy                           0.50     12900\n",
            "   macro avg       0.50      0.50      0.50     12900\n",
            "weighted avg       0.50      0.50      0.50     12900\n",
            "\n"
          ],
          "name": "stdout"
        },
        {
          "output_type": "display_data",
          "data": {
            "image/png": "[encoded data removed]",
            "text/plain": [
              "<Figure size 432x288 with 1 Axes>"
            ]
          },
          "metadata": {
            "tags": [],
            "needs_background": "light"
          }
        },
        {
          "output_type": "stream",
          "text": [
            "SVC(C=1.0, break_ties=False, cache_size=200, class_weight='balanced', coef0=0.0,\n",
            "    decision_function_shape='ovr', degree=3, gamma='scale', kernel='rbf',\n",
            "    max_iter=-1, probability=False, random_state=42, shrinking=True, tol=0.001,\n",
            "    verbose=False)\n",
            "Precision:   0.50\n",
            "Recall:   0.50\n",
            "F1-measure:   0.50\n",
            "Accuracy:   0.50\n",
            "              precision    recall  f1-score   support\n",
            "\n",
            "           0       0.54      0.48      0.51      7029\n",
            "           1       0.46      0.52      0.49      5871\n",
            "\n",
            "    accuracy                           0.50     12900\n",
            "   macro avg       0.50      0.50      0.50     12900\n",
            "weighted avg       0.50      0.50      0.50     12900\n",
            "\n"
          ],
          "name": "stdout"
        },
        {
          "output_type": "display_data",
          "data": {
            "image/png": "[encoded data removed]",
            "text/plain": [
              "<Figure size 432x288 with 1 Axes>"
            ]
          },
          "metadata": {
            "tags": [],
            "needs_background": "light"
          }
        },
        {
          "output_type": "stream",
          "text": [
            "DecisionTreeClassifier(ccp_alpha=0.0, class_weight=None, criterion='gini',\n",
            "                       max_depth=None, max_features=None, max_leaf_nodes=None,\n",
            "                       min_impurity_decrease=0.0, min_impurity_split=None,\n",
            "                       min_samples_leaf=1, min_samples_split=2,\n",
            "                       min_weight_fraction_leaf=0.0, presort='deprecated',\n",
            "                       random_state=None, splitter='best')\n",
            "Precision:   0.50\n",
            "Recall:   0.50\n",
            "F1-measure:   0.50\n",
            "Accuracy:   0.50\n",
            "              precision    recall  f1-score   support\n",
            "\n",
            "           0       0.54      0.48      0.51      7029\n",
            "           1       0.46      0.52      0.49      5871\n",
            "\n",
            "    accuracy                           0.50     12900\n",
            "   macro avg       0.50      0.50      0.50     12900\n",
            "weighted avg       0.50      0.50      0.50     12900\n",
            "\n"
          ],
          "name": "stdout"
        },
        {
          "output_type": "display_data",
          "data": {
            "image/png": "[encoded data removed]",
            "text/plain": [
              "<Figure size 432x288 with 1 Axes>"
            ]
          },
          "metadata": {
            "tags": [],
            "needs_background": "light"
          }
        },
        {
          "output_type": "stream",
          "text": [
            "ExtraTreeClassifier(ccp_alpha=0.0, class_weight=None, criterion='gini',\n",
            "                    max_depth=None, max_features='auto', max_leaf_nodes=None,\n",
            "                    min_impurity_decrease=0.0, min_impurity_split=None,\n",
            "                    min_samples_leaf=1, min_samples_split=2,\n",
            "                    min_weight_fraction_leaf=0.0, random_state=None,\n",
            "                    splitter='random')\n",
            "Precision:   0.50\n",
            "Recall:   0.50\n",
            "F1-measure:   0.50\n",
            "Accuracy:   0.51\n",
            "              precision    recall  f1-score   support\n",
            "\n",
            "           0       0.54      0.61      0.57      7029\n",
            "           1       0.45      0.39      0.42      5871\n",
            "\n",
            "    accuracy                           0.51     12900\n",
            "   macro avg       0.50      0.50      0.50     12900\n",
            "weighted avg       0.50      0.51      0.50     12900\n",
            "\n"
          ],
          "name": "stdout"
        },
        {
          "output_type": "display_data",
          "data": {
            "image/png": "[encoded data removed]",
            "text/plain": [
              "<Figure size 432x288 with 1 Axes>"
            ]
          },
          "metadata": {
            "tags": [],
            "needs_background": "light"
          }
        }
      ]
    },
    {
      "cell_type": "code",
      "metadata": {
        "id": "dZGZTMt8-Lwx"
      },
      "source": [
        "X_train = X_tr_How[:len(X_tr_How) - int(koef * len(X_tr_How))]\r\n",
        "X_test = X_tr_How[len(X_tr_How) - int(koef * len(X_tr_How)):]\r\n",
        "Y_train = Y_tr_How[:len(Y_tr_How) - int(koef * len(Y_tr_How))]\r\n",
        "Y_test = Y_tr_How[len(Y_tr_How) - int(koef * len(Y_tr_How)):]"
      ],
      "execution_count": null,
      "outputs": []
    },
    {
      "cell_type": "code",
      "metadata": {
        "colab": {
          "base_uri": "https://localhost:8080/",
          "height": 1000
        },
        "id": "fIbAWAcKx9Cj",
        "outputId": "c6cefea6-246c-40e4-9a4a-ba748cf4ad03"
      },
      "source": [
        "for classif in clflist:\r\n",
        "    clf_How = Pipeline([\r\n",
        "    ('vect', CountVectorizer(ngram_range=(1,3), analyzer='word', max_features=10000)),\r\n",
        "    ('tfidf', TfidfTransformer(sublinear_tf=True)),\r\n",
        "    #('reducer', TruncatedSVD(n_components=Val3)),\r\n",
        "    ('clf_How', classif),\r\n",
        "    ])\r\n",
        "    clf_How.fit(X_train, Y_train)\r\n",
        "    predictions = clf_place.predict(X_test)\r\n",
        "    print(classif)\r\n",
        "    print(\"Precision: {0:6.2f}\".format(precision_score(Y_test, predictions, average='macro')))\r\n",
        "    print(\"Recall: {0:6.2f}\".format(recall_score(Y_test, predictions, average='macro')))\r\n",
        "    print(\"F1-measure: {0:6.2f}\".format(f1_score(Y_test, predictions, average='macro')))\r\n",
        "    print(\"Accuracy: {0:6.2f}\".format(accuracy_score(Y_test, predictions)))\r\n",
        "    print(classification_report(Y_test, predictions))\r\n",
        "    labels = clf_How.classes_\r\n",
        "    sns.heatmap(data=confusion_matrix(Y_test, predictions), annot=True, fmt=\"d\", cbar=False, xticklabels=labels, yticklabels=labels)\r\n",
        "    plt.title(\"Confusion matrix\")\r\n",
        "    plt.show()"
      ],
      "execution_count": null,
      "outputs": [
        {
          "output_type": "stream",
          "text": [
            "LogisticRegression(C=1.0, class_weight=None, dual=False, fit_intercept=True,\n",
            "                   intercept_scaling=1, l1_ratio=None, max_iter=100,\n",
            "                   multi_class='auto', n_jobs=None, penalty='l2',\n",
            "                   random_state=42, solver='lbfgs', tol=0.0001, verbose=0,\n",
            "                   warm_start=False)\n",
            "Precision:   0.50\n",
            "Recall:   0.50\n",
            "F1-measure:   0.50\n",
            "Accuracy:   0.51\n",
            "              precision    recall  f1-score   support\n",
            "\n",
            "           0       0.55      0.61      0.58      6473\n",
            "           1       0.45      0.39      0.42      5335\n",
            "\n",
            "    accuracy                           0.51     11808\n",
            "   macro avg       0.50      0.50      0.50     11808\n",
            "weighted avg       0.50      0.51      0.50     11808\n",
            "\n"
          ],
          "name": "stdout"
        },
        {
          "output_type": "display_data",
          "data": {
            "image/png": "[encoded data removed]",
            "text/plain": [
              "<Figure size 432x288 with 1 Axes>"
            ]
          },
          "metadata": {
            "tags": [],
            "needs_background": "light"
          }
        },
        {
          "output_type": "stream",
          "text": [
            "RandomForestClassifier(bootstrap=True, ccp_alpha=0.0, class_weight=None,\n",
            "                       criterion='gini', max_depth=None, max_features='auto',\n",
            "                       max_leaf_nodes=None, max_samples=None,\n",
            "                       min_impurity_decrease=0.0, min_impurity_split=None,\n",
            "                       min_samples_leaf=1, min_samples_split=2,\n",
            "                       min_weight_fraction_leaf=0.0, n_estimators=100,\n",
            "                       n_jobs=-1, oob_score=False, random_state=42, verbose=0,\n",
            "                       warm_start=False)\n",
            "Precision:   0.50\n",
            "Recall:   0.50\n",
            "F1-measure:   0.50\n",
            "Accuracy:   0.51\n",
            "              precision    recall  f1-score   support\n",
            "\n",
            "           0       0.55      0.61      0.58      6473\n",
            "           1       0.45      0.39      0.42      5335\n",
            "\n",
            "    accuracy                           0.51     11808\n",
            "   macro avg       0.50      0.50      0.50     11808\n",
            "weighted avg       0.50      0.51      0.50     11808\n",
            "\n"
          ],
          "name": "stdout"
        },
        {
          "output_type": "display_data",
          "data": {
            "image/png": "[encoded data removed]",
            "text/plain": [
              "<Figure size 432x288 with 1 Axes>"
            ]
          },
          "metadata": {
            "tags": [],
            "needs_background": "light"
          }
        },
        {
          "output_type": "stream",
          "text": [
            "SGDClassifier(alpha=0.0001, average=False, class_weight=None,\n",
            "              early_stopping=False, epsilon=0.1, eta0=0.0, fit_intercept=True,\n",
            "              l1_ratio=0.15, learning_rate='optimal', loss='hinge',\n",
            "              max_iter=1000, n_iter_no_change=5, n_jobs=None, penalty='l2',\n",
            "              power_t=0.5, random_state=None, shuffle=True, tol=0.001,\n",
            "              validation_fraction=0.1, verbose=0, warm_start=False)\n",
            "Precision:   0.50\n",
            "Recall:   0.50\n",
            "F1-measure:   0.50\n",
            "Accuracy:   0.51\n",
            "              precision    recall  f1-score   support\n",
            "\n",
            "           0       0.55      0.61      0.58      6473\n",
            "           1       0.45      0.39      0.42      5335\n",
            "\n",
            "    accuracy                           0.51     11808\n",
            "   macro avg       0.50      0.50      0.50     11808\n",
            "weighted avg       0.50      0.51      0.50     11808\n",
            "\n"
          ],
          "name": "stdout"
        },
        {
          "output_type": "display_data",
          "data": {
            "image/png": "[encoded data removed]",
            "text/plain": [
              "<Figure size 432x288 with 1 Axes>"
            ]
          },
          "metadata": {
            "tags": [],
            "needs_background": "light"
          }
        },
        {
          "output_type": "stream",
          "text": [
            "SVC(C=1.0, break_ties=False, cache_size=200, class_weight=None, coef0=0.0,\n",
            "    decision_function_shape='ovr', degree=3, gamma='scale', kernel='rbf',\n",
            "    max_iter=-1, probability=False, random_state=42, shrinking=True, tol=0.001,\n",
            "    verbose=False)\n",
            "Precision:   0.50\n",
            "Recall:   0.50\n",
            "F1-measure:   0.50\n",
            "Accuracy:   0.51\n",
            "              precision    recall  f1-score   support\n",
            "\n",
            "           0       0.55      0.61      0.58      6473\n",
            "           1       0.45      0.39      0.42      5335\n",
            "\n",
            "    accuracy                           0.51     11808\n",
            "   macro avg       0.50      0.50      0.50     11808\n",
            "weighted avg       0.50      0.51      0.50     11808\n",
            "\n"
          ],
          "name": "stdout"
        },
        {
          "output_type": "display_data",
          "data": {
            "image/png": "[encoded data removed]",
            "text/plain": [
              "<Figure size 432x288 with 1 Axes>"
            ]
          },
          "metadata": {
            "tags": [],
            "needs_background": "light"
          }
        },
        {
          "output_type": "stream",
          "text": [
            "DecisionTreeClassifier(ccp_alpha=0.0, class_weight=None, criterion='gini',\n",
            "                       max_depth=None, max_features=None, max_leaf_nodes=None,\n",
            "                       min_impurity_decrease=0.0, min_impurity_split=None,\n",
            "                       min_samples_leaf=1, min_samples_split=2,\n",
            "                       min_weight_fraction_leaf=0.0, presort='deprecated',\n",
            "                       random_state=42, splitter='best')\n",
            "Precision:   0.50\n",
            "Recall:   0.50\n",
            "F1-measure:   0.50\n",
            "Accuracy:   0.51\n",
            "              precision    recall  f1-score   support\n",
            "\n",
            "           0       0.55      0.61      0.58      6473\n",
            "           1       0.45      0.39      0.42      5335\n",
            "\n",
            "    accuracy                           0.51     11808\n",
            "   macro avg       0.50      0.50      0.50     11808\n",
            "weighted avg       0.50      0.51      0.50     11808\n",
            "\n"
          ],
          "name": "stdout"
        },
        {
          "output_type": "display_data",
          "data": {
            "image/png": "[encoded data removed]",
            "text/plain": [
              "<Figure size 432x288 with 1 Axes>"
            ]
          },
          "metadata": {
            "tags": [],
            "needs_background": "light"
          }
        },
        {
          "output_type": "stream",
          "text": [
            "SVC(C=1.0, break_ties=False, cache_size=200, class_weight='balanced', coef0=0.0,\n",
            "    decision_function_shape='ovr', degree=3, gamma='scale', kernel='rbf',\n",
            "    max_iter=-1, probability=False, random_state=42, shrinking=True, tol=0.001,\n",
            "    verbose=False)\n",
            "Precision:   0.50\n",
            "Recall:   0.50\n",
            "F1-measure:   0.50\n",
            "Accuracy:   0.51\n",
            "              precision    recall  f1-score   support\n",
            "\n",
            "           0       0.55      0.61      0.58      6473\n",
            "           1       0.45      0.39      0.42      5335\n",
            "\n",
            "    accuracy                           0.51     11808\n",
            "   macro avg       0.50      0.50      0.50     11808\n",
            "weighted avg       0.50      0.51      0.50     11808\n",
            "\n"
          ],
          "name": "stdout"
        },
        {
          "output_type": "display_data",
          "data": {
            "image/png": "[encoded data removed]",
            "text/plain": [
              "<Figure size 432x288 with 1 Axes>"
            ]
          },
          "metadata": {
            "tags": [],
            "needs_background": "light"
          }
        },
        {
          "output_type": "stream",
          "text": [
            "DecisionTreeClassifier(ccp_alpha=0.0, class_weight=None, criterion='gini',\n",
            "                       max_depth=None, max_features=None, max_leaf_nodes=None,\n",
            "                       min_impurity_decrease=0.0, min_impurity_split=None,\n",
            "                       min_samples_leaf=1, min_samples_split=2,\n",
            "                       min_weight_fraction_leaf=0.0, presort='deprecated',\n",
            "                       random_state=None, splitter='best')\n",
            "Precision:   0.50\n",
            "Recall:   0.50\n",
            "F1-measure:   0.50\n",
            "Accuracy:   0.51\n",
            "              precision    recall  f1-score   support\n",
            "\n",
            "           0       0.55      0.61      0.58      6473\n",
            "           1       0.45      0.39      0.42      5335\n",
            "\n",
            "    accuracy                           0.51     11808\n",
            "   macro avg       0.50      0.50      0.50     11808\n",
            "weighted avg       0.50      0.51      0.50     11808\n",
            "\n"
          ],
          "name": "stdout"
        },
        {
          "output_type": "display_data",
          "data": {
            "image/png": "[encoded data removed]",
            "text/plain": [
              "<Figure size 432x288 with 1 Axes>"
            ]
          },
          "metadata": {
            "tags": [],
            "needs_background": "light"
          }
        },
        {
          "output_type": "stream",
          "text": [
            "ExtraTreeClassifier(ccp_alpha=0.0, class_weight=None, criterion='gini',\n",
            "                    max_depth=None, max_features='auto', max_leaf_nodes=None,\n",
            "                    min_impurity_decrease=0.0, min_impurity_split=None,\n",
            "                    min_samples_leaf=1, min_samples_split=2,\n",
            "                    min_weight_fraction_leaf=0.0, random_state=None,\n",
            "                    splitter='random')\n",
            "Precision:   0.51\n",
            "Recall:   0.50\n",
            "F1-measure:   0.43\n",
            "Accuracy:   0.54\n",
            "              precision    recall  f1-score   support\n",
            "\n",
            "           0       0.55      0.89      0.68      6473\n",
            "           1       0.46      0.12      0.19      5335\n",
            "\n",
            "    accuracy                           0.54     11808\n",
            "   macro avg       0.51      0.50      0.43     11808\n",
            "weighted avg       0.51      0.54      0.46     11808\n",
            "\n"
          ],
          "name": "stdout"
        },
        {
          "output_type": "display_data",
          "data": {
            "image/png": "[encoded data removed]",
            "text/plain": [
              "<Figure size 432x288 with 1 Axes>"
            ]
          },
          "metadata": {
            "tags": [],
            "needs_background": "light"
          }
        }
      ]
    },
    {
      "cell_type": "code",
      "metadata": {
        "id": "UEEAfd90-Oie"
      },
      "source": [
        "X_train = X_tr_Who[:len(X_tr_Who) - int(koef * len(X_tr_Who))]\r\n",
        "X_test = X_tr_Who[len(X_tr_Who) - int(koef * len(X_tr_Who)):]\r\n",
        "Y_train = Y_tr_Who[:len(Y_tr_Who) - int(koef * len(Y_tr_Who))]\r\n",
        "Y_test = Y_tr_Who[len(Y_tr_Who) - int(koef * len(Y_tr_Who)):]"
      ],
      "execution_count": null,
      "outputs": []
    },
    {
      "cell_type": "code",
      "metadata": {
        "colab": {
          "base_uri": "https://localhost:8080/",
          "height": 1000
        },
        "id": "5ooBmOiKx9On",
        "outputId": "64708730-9d10-4a04-885f-e9b2fefe02c8"
      },
      "source": [
        "for classif in clflist:\r\n",
        "    clf_Who = Pipeline([\r\n",
        "    ('vect', CountVectorizer(ngram_range=(1,3), analyzer='word', max_features=10000)),\r\n",
        "    ('tfidf', TfidfTransformer(sublinear_tf=True)),\r\n",
        "    #('reducer', TruncatedSVD(n_components=Val3)),\r\n",
        "    ('clf_Who', classif),\r\n",
        "    ])\r\n",
        "    clf_Who.fit(X_train, Y_train)\r\n",
        "    predictions = clf_place.predict(X_test)\r\n",
        "    print(classif)\r\n",
        "    print(\"Precision: {0:6.2f}\".format(precision_score(Y_test, predictions, average='macro')))\r\n",
        "    print(\"Recall: {0:6.2f}\".format(recall_score(Y_test, predictions, average='macro')))\r\n",
        "    print(\"F1-measure: {0:6.2f}\".format(f1_score(Y_test, predictions, average='macro')))\r\n",
        "    print(\"Accuracy: {0:6.2f}\".format(accuracy_score(Y_test, predictions)))\r\n",
        "    print(classification_report(Y_test, predictions))\r\n",
        "    labels = clf_Who.classes_\r\n",
        "    sns.heatmap(data=confusion_matrix(Y_test, predictions), annot=True, fmt=\"d\", cbar=False, xticklabels=labels, yticklabels=labels)\r\n",
        "    plt.title(\"Confusion matrix\")\r\n",
        "    plt.show()"
      ],
      "execution_count": null,
      "outputs": [
        {
          "output_type": "stream",
          "text": [
            "LogisticRegression(C=1.0, class_weight=None, dual=False, fit_intercept=True,\n",
            "                   intercept_scaling=1, l1_ratio=None, max_iter=100,\n",
            "                   multi_class='auto', n_jobs=None, penalty='l2',\n",
            "                   random_state=42, solver='lbfgs', tol=0.0001, verbose=0,\n",
            "                   warm_start=False)\n",
            "Precision:   0.51\n",
            "Recall:   0.50\n",
            "F1-measure:   0.43\n",
            "Accuracy:   0.54\n",
            "              precision    recall  f1-score   support\n",
            "\n",
            "           0       0.55      0.89      0.68      7437\n",
            "           1       0.47      0.11      0.18      6130\n",
            "\n",
            "    accuracy                           0.54     13567\n",
            "   macro avg       0.51      0.50      0.43     13567\n",
            "weighted avg       0.51      0.54      0.46     13567\n",
            "\n"
          ],
          "name": "stdout"
        },
        {
          "output_type": "display_data",
          "data": {
            "image/png": "[encoded data removed]",
            "text/plain": [
              "<Figure size 432x288 with 1 Axes>"
            ]
          },
          "metadata": {
            "tags": [],
            "needs_background": "light"
          }
        },
        {
          "output_type": "stream",
          "text": [
            "RandomForestClassifier(bootstrap=True, ccp_alpha=0.0, class_weight=None,\n",
            "                       criterion='gini', max_depth=None, max_features='auto',\n",
            "                       max_leaf_nodes=None, max_samples=None,\n",
            "                       min_impurity_decrease=0.0, min_impurity_split=None,\n",
            "                       min_samples_leaf=1, min_samples_split=2,\n",
            "                       min_weight_fraction_leaf=0.0, n_estimators=100,\n",
            "                       n_jobs=-1, oob_score=False, random_state=42, verbose=0,\n",
            "                       warm_start=False)\n",
            "Precision:   0.51\n",
            "Recall:   0.50\n",
            "F1-measure:   0.43\n",
            "Accuracy:   0.54\n",
            "              precision    recall  f1-score   support\n",
            "\n",
            "           0       0.55      0.89      0.68      7437\n",
            "           1       0.47      0.11      0.18      6130\n",
            "\n",
            "    accuracy                           0.54     13567\n",
            "   macro avg       0.51      0.50      0.43     13567\n",
            "weighted avg       0.51      0.54      0.46     13567\n",
            "\n"
          ],
          "name": "stdout"
        },
        {
          "output_type": "display_data",
          "data": {
            "image/png": "[encoded data removed]",
            "text/plain": [
              "<Figure size 432x288 with 1 Axes>"
            ]
          },
          "metadata": {
            "tags": [],
            "needs_background": "light"
          }
        },
        {
          "output_type": "stream",
          "text": [
            "SGDClassifier(alpha=0.0001, average=False, class_weight=None,\n",
            "              early_stopping=False, epsilon=0.1, eta0=0.0, fit_intercept=True,\n",
            "              l1_ratio=0.15, learning_rate='optimal', loss='hinge',\n",
            "              max_iter=1000, n_iter_no_change=5, n_jobs=None, penalty='l2',\n",
            "              power_t=0.5, random_state=None, shuffle=True, tol=0.001,\n",
            "              validation_fraction=0.1, verbose=0, warm_start=False)\n",
            "Precision:   0.51\n",
            "Recall:   0.50\n",
            "F1-measure:   0.43\n",
            "Accuracy:   0.54\n",
            "              precision    recall  f1-score   support\n",
            "\n",
            "           0       0.55      0.89      0.68      7437\n",
            "           1       0.47      0.11      0.18      6130\n",
            "\n",
            "    accuracy                           0.54     13567\n",
            "   macro avg       0.51      0.50      0.43     13567\n",
            "weighted avg       0.51      0.54      0.46     13567\n",
            "\n"
          ],
          "name": "stdout"
        },
        {
          "output_type": "display_data",
          "data": {
            "image/png": "[encoded data removed]",
            "text/plain": [
              "<Figure size 432x288 with 1 Axes>"
            ]
          },
          "metadata": {
            "tags": [],
            "needs_background": "light"
          }
        },
        {
          "output_type": "stream",
          "text": [
            "SVC(C=1.0, break_ties=False, cache_size=200, class_weight=None, coef0=0.0,\n",
            "    decision_function_shape='ovr', degree=3, gamma='scale', kernel='rbf',\n",
            "    max_iter=-1, probability=False, random_state=42, shrinking=True, tol=0.001,\n",
            "    verbose=False)\n",
            "Precision:   0.51\n",
            "Recall:   0.50\n",
            "F1-measure:   0.43\n",
            "Accuracy:   0.54\n",
            "              precision    recall  f1-score   support\n",
            "\n",
            "           0       0.55      0.89      0.68      7437\n",
            "           1       0.47      0.11      0.18      6130\n",
            "\n",
            "    accuracy                           0.54     13567\n",
            "   macro avg       0.51      0.50      0.43     13567\n",
            "weighted avg       0.51      0.54      0.46     13567\n",
            "\n"
          ],
          "name": "stdout"
        },
        {
          "output_type": "display_data",
          "data": {
            "image/png": "[encoded data removed]",
            "text/plain": [
              "<Figure size 432x288 with 1 Axes>"
            ]
          },
          "metadata": {
            "tags": [],
            "needs_background": "light"
          }
        },
        {
          "output_type": "stream",
          "text": [
            "DecisionTreeClassifier(ccp_alpha=0.0, class_weight=None, criterion='gini',\n",
            "                       max_depth=None, max_features=None, max_leaf_nodes=None,\n",
            "                       min_impurity_decrease=0.0, min_impurity_split=None,\n",
            "                       min_samples_leaf=1, min_samples_split=2,\n",
            "                       min_weight_fraction_leaf=0.0, presort='deprecated',\n",
            "                       random_state=42, splitter='best')\n",
            "Precision:   0.51\n",
            "Recall:   0.50\n",
            "F1-measure:   0.43\n",
            "Accuracy:   0.54\n",
            "              precision    recall  f1-score   support\n",
            "\n",
            "           0       0.55      0.89      0.68      7437\n",
            "           1       0.47      0.11      0.18      6130\n",
            "\n",
            "    accuracy                           0.54     13567\n",
            "   macro avg       0.51      0.50      0.43     13567\n",
            "weighted avg       0.51      0.54      0.46     13567\n",
            "\n"
          ],
          "name": "stdout"
        },
        {
          "output_type": "display_data",
          "data": {
            "image/png": "[encoded data removed]",
            "text/plain": [
              "<Figure size 432x288 with 1 Axes>"
            ]
          },
          "metadata": {
            "tags": [],
            "needs_background": "light"
          }
        },
        {
          "output_type": "stream",
          "text": [
            "SVC(C=1.0, break_ties=False, cache_size=200, class_weight='balanced', coef0=0.0,\n",
            "    decision_function_shape='ovr', degree=3, gamma='scale', kernel='rbf',\n",
            "    max_iter=-1, probability=False, random_state=42, shrinking=True, tol=0.001,\n",
            "    verbose=False)\n",
            "Precision:   0.51\n",
            "Recall:   0.50\n",
            "F1-measure:   0.43\n",
            "Accuracy:   0.54\n",
            "              precision    recall  f1-score   support\n",
            "\n",
            "           0       0.55      0.89      0.68      7437\n",
            "           1       0.47      0.11      0.18      6130\n",
            "\n",
            "    accuracy                           0.54     13567\n",
            "   macro avg       0.51      0.50      0.43     13567\n",
            "weighted avg       0.51      0.54      0.46     13567\n",
            "\n"
          ],
          "name": "stdout"
        },
        {
          "output_type": "display_data",
          "data": {
            "image/png": "[encoded data removed]",
            "text/plain": [
              "<Figure size 432x288 with 1 Axes>"
            ]
          },
          "metadata": {
            "tags": [],
            "needs_background": "light"
          }
        },
        {
          "output_type": "stream",
          "text": [
            "DecisionTreeClassifier(ccp_alpha=0.0, class_weight=None, criterion='gini',\n",
            "                       max_depth=None, max_features=None, max_leaf_nodes=None,\n",
            "                       min_impurity_decrease=0.0, min_impurity_split=None,\n",
            "                       min_samples_leaf=1, min_samples_split=2,\n",
            "                       min_weight_fraction_leaf=0.0, presort='deprecated',\n",
            "                       random_state=None, splitter='best')\n",
            "Precision:   0.51\n",
            "Recall:   0.50\n",
            "F1-measure:   0.43\n",
            "Accuracy:   0.54\n",
            "              precision    recall  f1-score   support\n",
            "\n",
            "           0       0.55      0.89      0.68      7437\n",
            "           1       0.47      0.11      0.18      6130\n",
            "\n",
            "    accuracy                           0.54     13567\n",
            "   macro avg       0.51      0.50      0.43     13567\n",
            "weighted avg       0.51      0.54      0.46     13567\n",
            "\n"
          ],
          "name": "stdout"
        },
        {
          "output_type": "display_data",
          "data": {
            "image/png": "[encoded data removed]",
            "text/plain": [
              "<Figure size 432x288 with 1 Axes>"
            ]
          },
          "metadata": {
            "tags": [],
            "needs_background": "light"
          }
        },
        {
          "output_type": "stream",
          "text": [
            "ExtraTreeClassifier(ccp_alpha=0.0, class_weight=None, criterion='gini',\n",
            "                    max_depth=None, max_features='auto', max_leaf_nodes=None,\n",
            "                    min_impurity_decrease=0.0, min_impurity_split=None,\n",
            "                    min_samples_leaf=1, min_samples_split=2,\n",
            "                    min_weight_fraction_leaf=0.0, random_state=None,\n",
            "                    splitter='random')\n",
            "Precision:   0.51\n",
            "Recall:   0.50\n",
            "F1-measure:   0.39\n",
            "Accuracy:   0.46\n",
            "              precision    recall  f1-score   support\n",
            "\n",
            "           0       0.56      0.10      0.17      7437\n",
            "           1       0.45      0.90      0.60      6130\n",
            "\n",
            "    accuracy                           0.46     13567\n",
            "   macro avg       0.51      0.50      0.39     13567\n",
            "weighted avg       0.51      0.46      0.37     13567\n",
            "\n"
          ],
          "name": "stdout"
        },
        {
          "output_type": "display_data",
          "data": {
            "image/png": "[encoded data removed]",
            "text/plain": [
              "<Figure size 432x288 with 1 Axes>"
            ]
          },
          "metadata": {
            "tags": [],
            "needs_background": "light"
          }
        }
      ]
    },
    {
      "cell_type": "code",
      "metadata": {
        "id": "2UVi2ctP-QRD"
      },
      "source": [
        "X_train = X_tr_When[:len(X_tr_When) - int(koef * len(X_tr_When))]\r\n",
        "X_test = X_tr_When[len(X_tr_When) - int(koef * len(X_tr_When)):]\r\n",
        "Y_train = Y_tr_When[:len(Y_tr_When) - int(koef * len(Y_tr_When))]\r\n",
        "Y_test = Y_tr_When[len(Y_tr_When) - int(koef * len(Y_tr_When)):]"
      ],
      "execution_count": null,
      "outputs": []
    },
    {
      "cell_type": "code",
      "metadata": {
        "colab": {
          "base_uri": "https://localhost:8080/",
          "height": 1000
        },
        "id": "nfPM9hq3x-qA",
        "outputId": "4df68543-c037-4823-a90d-5812dc1efd6f"
      },
      "source": [
        "for classif in clflist:\r\n",
        "    clf_When = Pipeline([\r\n",
        "    ('vect', CountVectorizer(ngram_range=(1,3), analyzer='word', max_features=10000)),\r\n",
        "    ('tfidf', TfidfTransformer(sublinear_tf=True)),\r\n",
        "    #('reducer', TruncatedSVD(n_components=Val3)),\r\n",
        "    ('clf_When', classif),\r\n",
        "    ])\r\n",
        "    clf_When.fit(X_train, Y_train)\r\n",
        "    predictions = clf_place.predict(X_test)\r\n",
        "    print(classif)\r\n",
        "    print(\"Precision: {0:6.2f}\".format(precision_score(Y_test, predictions, average='macro')))\r\n",
        "    print(\"Recall: {0:6.2f}\".format(recall_score(Y_test, predictions, average='macro')))\r\n",
        "    print(\"F1-measure: {0:6.2f}\".format(f1_score(Y_test, predictions, average='macro')))\r\n",
        "    print(\"Accuracy: {0:6.2f}\".format(accuracy_score(Y_test, predictions)))\r\n",
        "    print(classification_report(Y_test, predictions))\r\n",
        "    labels = clf_When.classes_\r\n",
        "    sns.heatmap(data=confusion_matrix(Y_test, predictions), annot=True, fmt=\"d\", cbar=False, xticklabels=labels, yticklabels=labels)\r\n",
        "    plt.title(\"Confusion matrix\")\r\n",
        "    plt.show()"
      ],
      "execution_count": null,
      "outputs": [
        {
          "output_type": "stream",
          "text": [
            "LogisticRegression(C=1.0, class_weight=None, dual=False, fit_intercept=True,\n",
            "                   intercept_scaling=1, l1_ratio=None, max_iter=100,\n",
            "                   multi_class='auto', n_jobs=None, penalty='l2',\n",
            "                   random_state=42, solver='lbfgs', tol=0.0001, verbose=0,\n",
            "                   warm_start=False)\n",
            "Precision:   0.51\n",
            "Recall:   0.50\n",
            "F1-measure:   0.39\n",
            "Accuracy:   0.46\n",
            "              precision    recall  f1-score   support\n",
            "\n",
            "           0       0.56      0.11      0.18      6111\n",
            "           1       0.45      0.90      0.60      5041\n",
            "\n",
            "    accuracy                           0.46     11152\n",
            "   macro avg       0.51      0.50      0.39     11152\n",
            "weighted avg       0.51      0.46      0.37     11152\n",
            "\n"
          ],
          "name": "stdout"
        },
        {
          "output_type": "display_data",
          "data": {
            "image/png": "[encoded data removed]",
            "text/plain": [
              "<Figure size 432x288 with 1 Axes>"
            ]
          },
          "metadata": {
            "tags": [],
            "needs_background": "light"
          }
        },
        {
          "output_type": "stream",
          "text": [
            "RandomForestClassifier(bootstrap=True, ccp_alpha=0.0, class_weight=None,\n",
            "                       criterion='gini', max_depth=None, max_features='auto',\n",
            "                       max_leaf_nodes=None, max_samples=None,\n",
            "                       min_impurity_decrease=0.0, min_impurity_split=None,\n",
            "                       min_samples_leaf=1, min_samples_split=2,\n",
            "                       min_weight_fraction_leaf=0.0, n_estimators=100,\n",
            "                       n_jobs=-1, oob_score=False, random_state=42, verbose=0,\n",
            "                       warm_start=False)\n",
            "Precision:   0.51\n",
            "Recall:   0.50\n",
            "F1-measure:   0.39\n",
            "Accuracy:   0.46\n",
            "              precision    recall  f1-score   support\n",
            "\n",
            "           0       0.56      0.11      0.18      6111\n",
            "           1       0.45      0.90      0.60      5041\n",
            "\n",
            "    accuracy                           0.46     11152\n",
            "   macro avg       0.51      0.50      0.39     11152\n",
            "weighted avg       0.51      0.46      0.37     11152\n",
            "\n"
          ],
          "name": "stdout"
        },
        {
          "output_type": "display_data",
          "data": {
            "image/png": "[encoded data removed]",
            "text/plain": [
              "<Figure size 432x288 with 1 Axes>"
            ]
          },
          "metadata": {
            "tags": [],
            "needs_background": "light"
          }
        },
        {
          "output_type": "stream",
          "text": [
            "SGDClassifier(alpha=0.0001, average=False, class_weight=None,\n",
            "              early_stopping=False, epsilon=0.1, eta0=0.0, fit_intercept=True,\n",
            "              l1_ratio=0.15, learning_rate='optimal', loss='hinge',\n",
            "              max_iter=1000, n_iter_no_change=5, n_jobs=None, penalty='l2',\n",
            "              power_t=0.5, random_state=None, shuffle=True, tol=0.001,\n",
            "              validation_fraction=0.1, verbose=0, warm_start=False)\n",
            "Precision:   0.51\n",
            "Recall:   0.50\n",
            "F1-measure:   0.39\n",
            "Accuracy:   0.46\n",
            "              precision    recall  f1-score   support\n",
            "\n",
            "           0       0.56      0.11      0.18      6111\n",
            "           1       0.45      0.90      0.60      5041\n",
            "\n",
            "    accuracy                           0.46     11152\n",
            "   macro avg       0.51      0.50      0.39     11152\n",
            "weighted avg       0.51      0.46      0.37     11152\n",
            "\n"
          ],
          "name": "stdout"
        },
        {
          "output_type": "display_data",
          "data": {
            "image/png": "[encoded data removed]",
            "text/plain": [
              "<Figure size 432x288 with 1 Axes>"
            ]
          },
          "metadata": {
            "tags": [],
            "needs_background": "light"
          }
        },
        {
          "output_type": "stream",
          "text": [
            "SVC(C=1.0, break_ties=False, cache_size=200, class_weight=None, coef0=0.0,\n",
            "    decision_function_shape='ovr', degree=3, gamma='scale', kernel='rbf',\n",
            "    max_iter=-1, probability=False, random_state=42, shrinking=True, tol=0.001,\n",
            "    verbose=False)\n",
            "Precision:   0.51\n",
            "Recall:   0.50\n",
            "F1-measure:   0.39\n",
            "Accuracy:   0.46\n",
            "              precision    recall  f1-score   support\n",
            "\n",
            "           0       0.56      0.11      0.18      6111\n",
            "           1       0.45      0.90      0.60      5041\n",
            "\n",
            "    accuracy                           0.46     11152\n",
            "   macro avg       0.51      0.50      0.39     11152\n",
            "weighted avg       0.51      0.46      0.37     11152\n",
            "\n"
          ],
          "name": "stdout"
        },
        {
          "output_type": "display_data",
          "data": {
            "image/png": "[encoded data removed]",
            "text/plain": [
              "<Figure size 432x288 with 1 Axes>"
            ]
          },
          "metadata": {
            "tags": [],
            "needs_background": "light"
          }
        },
        {
          "output_type": "stream",
          "text": [
            "DecisionTreeClassifier(ccp_alpha=0.0, class_weight=None, criterion='gini',\n",
            "                       max_depth=None, max_features=None, max_leaf_nodes=None,\n",
            "                       min_impurity_decrease=0.0, min_impurity_split=None,\n",
            "                       min_samples_leaf=1, min_samples_split=2,\n",
            "                       min_weight_fraction_leaf=0.0, presort='deprecated',\n",
            "                       random_state=42, splitter='best')\n",
            "Precision:   0.51\n",
            "Recall:   0.50\n",
            "F1-measure:   0.39\n",
            "Accuracy:   0.46\n",
            "              precision    recall  f1-score   support\n",
            "\n",
            "           0       0.56      0.11      0.18      6111\n",
            "           1       0.45      0.90      0.60      5041\n",
            "\n",
            "    accuracy                           0.46     11152\n",
            "   macro avg       0.51      0.50      0.39     11152\n",
            "weighted avg       0.51      0.46      0.37     11152\n",
            "\n"
          ],
          "name": "stdout"
        },
        {
          "output_type": "display_data",
          "data": {
            "image/png": "[encoded data removed]",
            "text/plain": [
              "<Figure size 432x288 with 1 Axes>"
            ]
          },
          "metadata": {
            "tags": [],
            "needs_background": "light"
          }
        },
        {
          "output_type": "stream",
          "text": [
            "SVC(C=1.0, break_ties=False, cache_size=200, class_weight='balanced', coef0=0.0,\n",
            "    decision_function_shape='ovr', degree=3, gamma='scale', kernel='rbf',\n",
            "    max_iter=-1, probability=False, random_state=42, shrinking=True, tol=0.001,\n",
            "    verbose=False)\n",
            "Precision:   0.51\n",
            "Recall:   0.50\n",
            "F1-measure:   0.39\n",
            "Accuracy:   0.46\n",
            "              precision    recall  f1-score   support\n",
            "\n",
            "           0       0.56      0.11      0.18      6111\n",
            "           1       0.45      0.90      0.60      5041\n",
            "\n",
            "    accuracy                           0.46     11152\n",
            "   macro avg       0.51      0.50      0.39     11152\n",
            "weighted avg       0.51      0.46      0.37     11152\n",
            "\n"
          ],
          "name": "stdout"
        },
        {
          "output_type": "display_data",
          "data": {
            "image/png": "[encoded data removed]",
            "text/plain": [
              "<Figure size 432x288 with 1 Axes>"
            ]
          },
          "metadata": {
            "tags": [],
            "needs_background": "light"
          }
        },
        {
          "output_type": "stream",
          "text": [
            "DecisionTreeClassifier(ccp_alpha=0.0, class_weight=None, criterion='gini',\n",
            "                       max_depth=None, max_features=None, max_leaf_nodes=None,\n",
            "                       min_impurity_decrease=0.0, min_impurity_split=None,\n",
            "                       min_samples_leaf=1, min_samples_split=2,\n",
            "                       min_weight_fraction_leaf=0.0, presort='deprecated',\n",
            "                       random_state=None, splitter='best')\n",
            "Precision:   0.51\n",
            "Recall:   0.50\n",
            "F1-measure:   0.39\n",
            "Accuracy:   0.46\n",
            "              precision    recall  f1-score   support\n",
            "\n",
            "           0       0.56      0.11      0.18      6111\n",
            "           1       0.45      0.90      0.60      5041\n",
            "\n",
            "    accuracy                           0.46     11152\n",
            "   macro avg       0.51      0.50      0.39     11152\n",
            "weighted avg       0.51      0.46      0.37     11152\n",
            "\n"
          ],
          "name": "stdout"
        },
        {
          "output_type": "display_data",
          "data": {
            "image/png": "[encoded data removed]",
            "text/plain": [
              "<Figure size 432x288 with 1 Axes>"
            ]
          },
          "metadata": {
            "tags": [],
            "needs_background": "light"
          }
        },
        {
          "output_type": "stream",
          "text": [
            "ExtraTreeClassifier(ccp_alpha=0.0, class_weight=None, criterion='gini',\n",
            "                    max_depth=None, max_features='auto', max_leaf_nodes=None,\n",
            "                    min_impurity_decrease=0.0, min_impurity_split=None,\n",
            "                    min_samples_leaf=1, min_samples_split=2,\n",
            "                    min_weight_fraction_leaf=0.0, random_state=None,\n",
            "                    splitter='random')\n",
            "Precision:   0.50\n",
            "Recall:   0.50\n",
            "F1-measure:   0.49\n",
            "Accuracy:   0.52\n",
            "              precision    recall  f1-score   support\n",
            "\n",
            "           0       0.55      0.71      0.62      6111\n",
            "           1       0.46      0.29      0.35      5041\n",
            "\n",
            "    accuracy                           0.52     11152\n",
            "   macro avg       0.50      0.50      0.49     11152\n",
            "weighted avg       0.51      0.52      0.50     11152\n",
            "\n"
          ],
          "name": "stdout"
        },
        {
          "output_type": "display_data",
          "data": {
            "image/png": "[encoded data removed]",
            "text/plain": [
              "<Figure size 432x288 with 1 Axes>"
            ]
          },
          "metadata": {
            "tags": [],
            "needs_background": "light"
          }
        }
      ]
    },
    {
      "cell_type": "code",
      "metadata": {
        "id": "LDI-L9Sf-Sxz"
      },
      "source": [
        "X_train = X_tr_Many[:len(X_tr_Many) - int(koef * len(X_tr_Many))]\r\n",
        "X_test = X_tr_Many[len(X_tr_Many) - int(koef * len(X_tr_Many)):]\r\n",
        "Y_train = Y_tr_Many[:len(Y_tr_Many) - int(koef * len(Y_tr_Many))]\r\n",
        "Y_test = Y_tr_Many[len(Y_tr_Many) - int(koef * len(Y_tr_Many)):]"
      ],
      "execution_count": null,
      "outputs": []
    },
    {
      "cell_type": "code",
      "metadata": {
        "colab": {
          "base_uri": "https://localhost:8080/",
          "height": 1000
        },
        "id": "EGa6lNU4x-7C",
        "outputId": "5fef9d08-10d6-4697-c914-18461e05eff7"
      },
      "source": [
        "for classif in clflist:\r\n",
        "    clf_Many = Pipeline([\r\n",
        "    ('vect', CountVectorizer(ngram_range=(1,3), analyzer='word', max_features=10000)),\r\n",
        "    ('tfidf', TfidfTransformer(sublinear_tf=True)),\r\n",
        "    #('reducer', TruncatedSVD(n_components=Val3)),\r\n",
        "    ('clf_Many', classif),\r\n",
        "    ])\r\n",
        "    clf_Many.fit(X_train, Y_train)\r\n",
        "    predictions = clf_place.predict(X_test)\r\n",
        "    print(classif)\r\n",
        "    print(\"Precision: {0:6.2f}\".format(precision_score(Y_test, predictions, average='macro')))\r\n",
        "    print(\"Recall: {0:6.2f}\".format(recall_score(Y_test, predictions, average='macro')))\r\n",
        "    print(\"F1-measure: {0:6.2f}\".format(f1_score(Y_test, predictions, average='macro')))\r\n",
        "    print(\"Accuracy: {0:6.2f}\".format(accuracy_score(Y_test, predictions)))\r\n",
        "    print(classification_report(Y_test, predictions))\r\n",
        "    labels = clf_Many.classes_\r\n",
        "    sns.heatmap(data=confusion_matrix(Y_test, predictions), annot=True, fmt=\"d\", cbar=False, xticklabels=labels, yticklabels=labels)\r\n",
        "    plt.title(\"Confusion matrix\")\r\n",
        "    plt.show()"
      ],
      "execution_count": null,
      "outputs": [
        {
          "output_type": "stream",
          "text": [
            "LogisticRegression(C=1.0, class_weight=None, dual=False, fit_intercept=True,\n",
            "                   intercept_scaling=1, l1_ratio=None, max_iter=100,\n",
            "                   multi_class='auto', n_jobs=None, penalty='l2',\n",
            "                   random_state=42, solver='lbfgs', tol=0.0001, verbose=0,\n",
            "                   warm_start=False)\n",
            "Precision:   0.50\n",
            "Recall:   0.50\n",
            "F1-measure:   0.49\n",
            "Accuracy:   0.52\n",
            "              precision    recall  f1-score   support\n",
            "\n",
            "           0       0.55      0.72      0.62      6188\n",
            "           1       0.45      0.29      0.35      5094\n",
            "\n",
            "    accuracy                           0.52     11282\n",
            "   macro avg       0.50      0.50      0.49     11282\n",
            "weighted avg       0.51      0.52      0.50     11282\n",
            "\n"
          ],
          "name": "stdout"
        },
        {
          "output_type": "display_data",
          "data": {
            "image/png": "[encoded data removed]",
            "text/plain": [
              "<Figure size 432x288 with 1 Axes>"
            ]
          },
          "metadata": {
            "tags": [],
            "needs_background": "light"
          }
        },
        {
          "output_type": "stream",
          "text": [
            "RandomForestClassifier(bootstrap=True, ccp_alpha=0.0, class_weight=None,\n",
            "                       criterion='gini', max_depth=None, max_features='auto',\n",
            "                       max_leaf_nodes=None, max_samples=None,\n",
            "                       min_impurity_decrease=0.0, min_impurity_split=None,\n",
            "                       min_samples_leaf=1, min_samples_split=2,\n",
            "                       min_weight_fraction_leaf=0.0, n_estimators=100,\n",
            "                       n_jobs=-1, oob_score=False, random_state=42, verbose=0,\n",
            "                       warm_start=False)\n",
            "Precision:   0.50\n",
            "Recall:   0.50\n",
            "F1-measure:   0.49\n",
            "Accuracy:   0.52\n",
            "              precision    recall  f1-score   support\n",
            "\n",
            "           0       0.55      0.72      0.62      6188\n",
            "           1       0.45      0.29      0.35      5094\n",
            "\n",
            "    accuracy                           0.52     11282\n",
            "   macro avg       0.50      0.50      0.49     11282\n",
            "weighted avg       0.51      0.52      0.50     11282\n",
            "\n"
          ],
          "name": "stdout"
        },
        {
          "output_type": "display_data",
          "data": {
            "image/png": "[encoded data removed]",
            "text/plain": [
              "<Figure size 432x288 with 1 Axes>"
            ]
          },
          "metadata": {
            "tags": [],
            "needs_background": "light"
          }
        },
        {
          "output_type": "stream",
          "text": [
            "SGDClassifier(alpha=0.0001, average=False, class_weight=None,\n",
            "              early_stopping=False, epsilon=0.1, eta0=0.0, fit_intercept=True,\n",
            "              l1_ratio=0.15, learning_rate='optimal', loss='hinge',\n",
            "              max_iter=1000, n_iter_no_change=5, n_jobs=None, penalty='l2',\n",
            "              power_t=0.5, random_state=None, shuffle=True, tol=0.001,\n",
            "              validation_fraction=0.1, verbose=0, warm_start=False)\n",
            "Precision:   0.50\n",
            "Recall:   0.50\n",
            "F1-measure:   0.49\n",
            "Accuracy:   0.52\n",
            "              precision    recall  f1-score   support\n",
            "\n",
            "           0       0.55      0.72      0.62      6188\n",
            "           1       0.45      0.29      0.35      5094\n",
            "\n",
            "    accuracy                           0.52     11282\n",
            "   macro avg       0.50      0.50      0.49     11282\n",
            "weighted avg       0.51      0.52      0.50     11282\n",
            "\n"
          ],
          "name": "stdout"
        },
        {
          "output_type": "display_data",
          "data": {
            "image/png": "[encoded data removed]",
            "text/plain": [
              "<Figure size 432x288 with 1 Axes>"
            ]
          },
          "metadata": {
            "tags": [],
            "needs_background": "light"
          }
        },
        {
          "output_type": "stream",
          "text": [
            "SVC(C=1.0, break_ties=False, cache_size=200, class_weight=None, coef0=0.0,\n",
            "    decision_function_shape='ovr', degree=3, gamma='scale', kernel='rbf',\n",
            "    max_iter=-1, probability=False, random_state=42, shrinking=True, tol=0.001,\n",
            "    verbose=False)\n",
            "Precision:   0.50\n",
            "Recall:   0.50\n",
            "F1-measure:   0.49\n",
            "Accuracy:   0.52\n",
            "              precision    recall  f1-score   support\n",
            "\n",
            "           0       0.55      0.72      0.62      6188\n",
            "           1       0.45      0.29      0.35      5094\n",
            "\n",
            "    accuracy                           0.52     11282\n",
            "   macro avg       0.50      0.50      0.49     11282\n",
            "weighted avg       0.51      0.52      0.50     11282\n",
            "\n"
          ],
          "name": "stdout"
        },
        {
          "output_type": "display_data",
          "data": {
            "image/png": "[encoded data removed]",
            "text/plain": [
              "<Figure size 432x288 with 1 Axes>"
            ]
          },
          "metadata": {
            "tags": [],
            "needs_background": "light"
          }
        },
        {
          "output_type": "stream",
          "text": [
            "DecisionTreeClassifier(ccp_alpha=0.0, class_weight=None, criterion='gini',\n",
            "                       max_depth=None, max_features=None, max_leaf_nodes=None,\n",
            "                       min_impurity_decrease=0.0, min_impurity_split=None,\n",
            "                       min_samples_leaf=1, min_samples_split=2,\n",
            "                       min_weight_fraction_leaf=0.0, presort='deprecated',\n",
            "                       random_state=42, splitter='best')\n",
            "Precision:   0.50\n",
            "Recall:   0.50\n",
            "F1-measure:   0.49\n",
            "Accuracy:   0.52\n",
            "              precision    recall  f1-score   support\n",
            "\n",
            "           0       0.55      0.72      0.62      6188\n",
            "           1       0.45      0.29      0.35      5094\n",
            "\n",
            "    accuracy                           0.52     11282\n",
            "   macro avg       0.50      0.50      0.49     11282\n",
            "weighted avg       0.51      0.52      0.50     11282\n",
            "\n"
          ],
          "name": "stdout"
        },
        {
          "output_type": "display_data",
          "data": {
            "image/png": "[encoded data removed]",
            "text/plain": [
              "<Figure size 432x288 with 1 Axes>"
            ]
          },
          "metadata": {
            "tags": [],
            "needs_background": "light"
          }
        },
        {
          "output_type": "stream",
          "text": [
            "SVC(C=1.0, break_ties=False, cache_size=200, class_weight='balanced', coef0=0.0,\n",
            "    decision_function_shape='ovr', degree=3, gamma='scale', kernel='rbf',\n",
            "    max_iter=-1, probability=False, random_state=42, shrinking=True, tol=0.001,\n",
            "    verbose=False)\n",
            "Precision:   0.50\n",
            "Recall:   0.50\n",
            "F1-measure:   0.49\n",
            "Accuracy:   0.52\n",
            "              precision    recall  f1-score   support\n",
            "\n",
            "           0       0.55      0.72      0.62      6188\n",
            "           1       0.45      0.29      0.35      5094\n",
            "\n",
            "    accuracy                           0.52     11282\n",
            "   macro avg       0.50      0.50      0.49     11282\n",
            "weighted avg       0.51      0.52      0.50     11282\n",
            "\n"
          ],
          "name": "stdout"
        },
        {
          "output_type": "display_data",
          "data": {
            "image/png": "[encoded data removed]",
            "text/plain": [
              "<Figure size 432x288 with 1 Axes>"
            ]
          },
          "metadata": {
            "tags": [],
            "needs_background": "light"
          }
        },
        {
          "output_type": "stream",
          "text": [
            "DecisionTreeClassifier(ccp_alpha=0.0, class_weight=None, criterion='gini',\n",
            "                       max_depth=None, max_features=None, max_leaf_nodes=None,\n",
            "                       min_impurity_decrease=0.0, min_impurity_split=None,\n",
            "                       min_samples_leaf=1, min_samples_split=2,\n",
            "                       min_weight_fraction_leaf=0.0, presort='deprecated',\n",
            "                       random_state=None, splitter='best')\n",
            "Precision:   0.50\n",
            "Recall:   0.50\n",
            "F1-measure:   0.49\n",
            "Accuracy:   0.52\n",
            "              precision    recall  f1-score   support\n",
            "\n",
            "           0       0.55      0.72      0.62      6188\n",
            "           1       0.45      0.29      0.35      5094\n",
            "\n",
            "    accuracy                           0.52     11282\n",
            "   macro avg       0.50      0.50      0.49     11282\n",
            "weighted avg       0.51      0.52      0.50     11282\n",
            "\n"
          ],
          "name": "stdout"
        },
        {
          "output_type": "display_data",
          "data": {
            "image/png": "[encoded data removed]",
            "text/plain": [
              "<Figure size 432x288 with 1 Axes>"
            ]
          },
          "metadata": {
            "tags": [],
            "needs_background": "light"
          }
        },
        {
          "output_type": "stream",
          "text": [
            "ExtraTreeClassifier(ccp_alpha=0.0, class_weight=None, criterion='gini',\n",
            "                    max_depth=None, max_features='auto', max_leaf_nodes=None,\n",
            "                    min_impurity_decrease=0.0, min_impurity_split=None,\n",
            "                    min_samples_leaf=1, min_samples_split=2,\n",
            "                    min_weight_fraction_leaf=0.0, random_state=None,\n",
            "                    splitter='random')\n",
            "Precision:   0.50\n",
            "Recall:   0.50\n",
            "F1-measure:   0.40\n",
            "Accuracy:   0.46\n",
            "              precision    recall  f1-score   support\n",
            "\n",
            "           0       0.55      0.12      0.20      6188\n",
            "           1       0.45      0.88      0.60      5094\n",
            "\n",
            "    accuracy                           0.46     11282\n",
            "   macro avg       0.50      0.50      0.40     11282\n",
            "weighted avg       0.51      0.46      0.38     11282\n",
            "\n"
          ],
          "name": "stdout"
        },
        {
          "output_type": "display_data",
          "data": {
            "image/png": "[encoded data removed]",
            "text/plain": [
              "<Figure size 432x288 with 1 Axes>"
            ]
          },
          "metadata": {
            "tags": [],
            "needs_background": "light"
          }
        }
      ]
    },
    {
      "cell_type": "code",
      "metadata": {
        "id": "c_7KECXP-Uj7"
      },
      "source": [
        "X_train = X_tr_Other[:len(X_tr_Other) - int(koef * len(X_tr_Other))]\r\n",
        "X_test = X_tr_Other[len(X_tr_Other) - int(koef * len(X_tr_Other)):]\r\n",
        "Y_train = Y_tr_Other[:len(Y_tr_Other) - int(koef * len(Y_tr_Other))]\r\n",
        "Y_test = Y_tr_Other[len(Y_tr_Other) - int(koef * len(Y_tr_Other)):]"
      ],
      "execution_count": null,
      "outputs": []
    },
    {
      "cell_type": "code",
      "metadata": {
        "colab": {
          "base_uri": "https://localhost:8080/",
          "height": 1000
        },
        "id": "BdLWLp5Lx_H7",
        "outputId": "440ab492-6cc4-4d6a-a42c-a7c69b1c47eb"
      },
      "source": [
        "for classif in clflist:\r\n",
        "    clf_Other = Pipeline([\r\n",
        "    ('vect', CountVectorizer(ngram_range=(1,3), analyzer='word', max_features=10000)),\r\n",
        "    ('tfidf', TfidfTransformer(sublinear_tf=True)),\r\n",
        "    #('reducer', TruncatedSVD(n_components=Val3)),\r\n",
        "    ('clf_Other', classif),\r\n",
        "    ])\r\n",
        "    clf_Other.fit(X_train, Y_train)\r\n",
        "    predictions = clf_place.predict(X_test)\r\n",
        "    print(classif)\r\n",
        "    print(\"Precision: {0:6.2f}\".format(precision_score(Y_test, predictions, average='macro')))\r\n",
        "    print(\"Recall: {0:6.2f}\".format(recall_score(Y_test, predictions, average='macro')))\r\n",
        "    print(\"F1-measure: {0:6.2f}\".format(f1_score(Y_test, predictions, average='macro')))\r\n",
        "    print(\"Accuracy: {0:6.2f}\".format(accuracy_score(Y_test, predictions)))\r\n",
        "    print(classification_report(Y_test, predictions))\r\n",
        "    labels = clf_Other.classes_\r\n",
        "    sns.heatmap(data=confusion_matrix(Y_test, predictions), annot=True, fmt=\"d\", cbar=False, xticklabels=labels, yticklabels=labels)\r\n",
        "    plt.title(\"Confusion matrix\")\r\n",
        "    plt.show()"
      ],
      "execution_count": null,
      "outputs": [
        {
          "output_type": "stream",
          "text": [
            "LogisticRegression(C=1.0, class_weight=None, dual=False, fit_intercept=True,\n",
            "                   intercept_scaling=1, l1_ratio=None, max_iter=100,\n",
            "                   multi_class='auto', n_jobs=None, penalty='l2',\n",
            "                   random_state=42, solver='lbfgs', tol=0.0001, verbose=0,\n",
            "                   warm_start=False)\n",
            "Precision:   0.50\n",
            "Recall:   0.50\n",
            "F1-measure:   0.41\n",
            "Accuracy:   0.47\n",
            "              precision    recall  f1-score   support\n",
            "\n",
            "           0       0.56      0.14      0.22      8392\n",
            "           1       0.45      0.87      0.59      6892\n",
            "\n",
            "    accuracy                           0.47     15284\n",
            "   macro avg       0.50      0.50      0.41     15284\n",
            "weighted avg       0.51      0.47      0.39     15284\n",
            "\n"
          ],
          "name": "stdout"
        },
        {
          "output_type": "display_data",
          "data": {
            "image/png": "[encoded data removed]",
            "text/plain": [
              "<Figure size 432x288 with 1 Axes>"
            ]
          },
          "metadata": {
            "tags": [],
            "needs_background": "light"
          }
        },
        {
          "output_type": "stream",
          "text": [
            "RandomForestClassifier(bootstrap=True, ccp_alpha=0.0, class_weight=None,\n",
            "                       criterion='gini', max_depth=None, max_features='auto',\n",
            "                       max_leaf_nodes=None, max_samples=None,\n",
            "                       min_impurity_decrease=0.0, min_impurity_split=None,\n",
            "                       min_samples_leaf=1, min_samples_split=2,\n",
            "                       min_weight_fraction_leaf=0.0, n_estimators=100,\n",
            "                       n_jobs=-1, oob_score=False, random_state=42, verbose=0,\n",
            "                       warm_start=False)\n",
            "Precision:   0.50\n",
            "Recall:   0.50\n",
            "F1-measure:   0.41\n",
            "Accuracy:   0.47\n",
            "              precision    recall  f1-score   support\n",
            "\n",
            "           0       0.56      0.14      0.22      8392\n",
            "           1       0.45      0.87      0.59      6892\n",
            "\n",
            "    accuracy                           0.47     15284\n",
            "   macro avg       0.50      0.50      0.41     15284\n",
            "weighted avg       0.51      0.47      0.39     15284\n",
            "\n"
          ],
          "name": "stdout"
        },
        {
          "output_type": "display_data",
          "data": {
            "image/png": "[encoded data removed]",
            "text/plain": [
              "<Figure size 432x288 with 1 Axes>"
            ]
          },
          "metadata": {
            "tags": [],
            "needs_background": "light"
          }
        },
        {
          "output_type": "stream",
          "text": [
            "SGDClassifier(alpha=0.0001, average=False, class_weight=None,\n",
            "              early_stopping=False, epsilon=0.1, eta0=0.0, fit_intercept=True,\n",
            "              l1_ratio=0.15, learning_rate='optimal', loss='hinge',\n",
            "              max_iter=1000, n_iter_no_change=5, n_jobs=None, penalty='l2',\n",
            "              power_t=0.5, random_state=None, shuffle=True, tol=0.001,\n",
            "              validation_fraction=0.1, verbose=0, warm_start=False)\n",
            "Precision:   0.50\n",
            "Recall:   0.50\n",
            "F1-measure:   0.41\n",
            "Accuracy:   0.47\n",
            "              precision    recall  f1-score   support\n",
            "\n",
            "           0       0.56      0.14      0.22      8392\n",
            "           1       0.45      0.87      0.59      6892\n",
            "\n",
            "    accuracy                           0.47     15284\n",
            "   macro avg       0.50      0.50      0.41     15284\n",
            "weighted avg       0.51      0.47      0.39     15284\n",
            "\n"
          ],
          "name": "stdout"
        },
        {
          "output_type": "display_data",
          "data": {
            "image/png": "[encoded data removed]",
            "text/plain": [
              "<Figure size 432x288 with 1 Axes>"
            ]
          },
          "metadata": {
            "tags": [],
            "needs_background": "light"
          }
        },
        {
          "output_type": "stream",
          "text": [
            "SVC(C=1.0, break_ties=False, cache_size=200, class_weight=None, coef0=0.0,\n",
            "    decision_function_shape='ovr', degree=3, gamma='scale', kernel='rbf',\n",
            "    max_iter=-1, probability=False, random_state=42, shrinking=True, tol=0.001,\n",
            "    verbose=False)\n",
            "Precision:   0.50\n",
            "Recall:   0.50\n",
            "F1-measure:   0.41\n",
            "Accuracy:   0.47\n",
            "              precision    recall  f1-score   support\n",
            "\n",
            "           0       0.56      0.14      0.22      8392\n",
            "           1       0.45      0.87      0.59      6892\n",
            "\n",
            "    accuracy                           0.47     15284\n",
            "   macro avg       0.50      0.50      0.41     15284\n",
            "weighted avg       0.51      0.47      0.39     15284\n",
            "\n"
          ],
          "name": "stdout"
        },
        {
          "output_type": "display_data",
          "data": {
            "image/png": "[encoded data removed]",
            "text/plain": [
              "<Figure size 432x288 with 1 Axes>"
            ]
          },
          "metadata": {
            "tags": [],
            "needs_background": "light"
          }
        },
        {
          "output_type": "stream",
          "text": [
            "DecisionTreeClassifier(ccp_alpha=0.0, class_weight=None, criterion='gini',\n",
            "                       max_depth=None, max_features=None, max_leaf_nodes=None,\n",
            "                       min_impurity_decrease=0.0, min_impurity_split=None,\n",
            "                       min_samples_leaf=1, min_samples_split=2,\n",
            "                       min_weight_fraction_leaf=0.0, presort='deprecated',\n",
            "                       random_state=42, splitter='best')\n",
            "Precision:   0.50\n",
            "Recall:   0.50\n",
            "F1-measure:   0.41\n",
            "Accuracy:   0.47\n",
            "              precision    recall  f1-score   support\n",
            "\n",
            "           0       0.56      0.14      0.22      8392\n",
            "           1       0.45      0.87      0.59      6892\n",
            "\n",
            "    accuracy                           0.47     15284\n",
            "   macro avg       0.50      0.50      0.41     15284\n",
            "weighted avg       0.51      0.47      0.39     15284\n",
            "\n"
          ],
          "name": "stdout"
        },
        {
          "output_type": "display_data",
          "data": {
            "image/png": "[encoded data removed]",
            "text/plain": [
              "<Figure size 432x288 with 1 Axes>"
            ]
          },
          "metadata": {
            "tags": [],
            "needs_background": "light"
          }
        },
        {
          "output_type": "stream",
          "text": [
            "SVC(C=1.0, break_ties=False, cache_size=200, class_weight='balanced', coef0=0.0,\n",
            "    decision_function_shape='ovr', degree=3, gamma='scale', kernel='rbf',\n",
            "    max_iter=-1, probability=False, random_state=42, shrinking=True, tol=0.001,\n",
            "    verbose=False)\n",
            "Precision:   0.50\n",
            "Recall:   0.50\n",
            "F1-measure:   0.41\n",
            "Accuracy:   0.47\n",
            "              precision    recall  f1-score   support\n",
            "\n",
            "           0       0.56      0.14      0.22      8392\n",
            "           1       0.45      0.87      0.59      6892\n",
            "\n",
            "    accuracy                           0.47     15284\n",
            "   macro avg       0.50      0.50      0.41     15284\n",
            "weighted avg       0.51      0.47      0.39     15284\n",
            "\n"
          ],
          "name": "stdout"
        },
        {
          "output_type": "display_data",
          "data": {
            "image/png": "[encoded data removed]",
            "text/plain": [
              "<Figure size 432x288 with 1 Axes>"
            ]
          },
          "metadata": {
            "tags": [],
            "needs_background": "light"
          }
        },
        {
          "output_type": "stream",
          "text": [
            "DecisionTreeClassifier(ccp_alpha=0.0, class_weight=None, criterion='gini',\n",
            "                       max_depth=None, max_features=None, max_leaf_nodes=None,\n",
            "                       min_impurity_decrease=0.0, min_impurity_split=None,\n",
            "                       min_samples_leaf=1, min_samples_split=2,\n",
            "                       min_weight_fraction_leaf=0.0, presort='deprecated',\n",
            "                       random_state=None, splitter='best')\n",
            "Precision:   0.50\n",
            "Recall:   0.50\n",
            "F1-measure:   0.41\n",
            "Accuracy:   0.47\n",
            "              precision    recall  f1-score   support\n",
            "\n",
            "           0       0.56      0.14      0.22      8392\n",
            "           1       0.45      0.87      0.59      6892\n",
            "\n",
            "    accuracy                           0.47     15284\n",
            "   macro avg       0.50      0.50      0.41     15284\n",
            "weighted avg       0.51      0.47      0.39     15284\n",
            "\n"
          ],
          "name": "stdout"
        },
        {
          "output_type": "display_data",
          "data": {
            "image/png": "[encoded data removed]",
            "text/plain": [
              "<Figure size 432x288 with 1 Axes>"
            ]
          },
          "metadata": {
            "tags": [],
            "needs_background": "light"
          }
        },
        {
          "output_type": "stream",
          "text": [
            "ExtraTreeClassifier(ccp_alpha=0.0, class_weight=None, criterion='gini',\n",
            "                    max_depth=None, max_features='auto', max_leaf_nodes=None,\n",
            "                    min_impurity_decrease=0.0, min_impurity_split=None,\n",
            "                    min_samples_leaf=1, min_samples_split=2,\n",
            "                    min_weight_fraction_leaf=0.0, random_state=None,\n",
            "                    splitter='random')\n",
            "Precision:   0.50\n",
            "Recall:   0.50\n",
            "F1-measure:   0.50\n",
            "Accuracy:   0.51\n",
            "              precision    recall  f1-score   support\n",
            "\n",
            "           0       0.55      0.57      0.56      8392\n",
            "           1       0.45      0.43      0.44      6892\n",
            "\n",
            "    accuracy                           0.51     15284\n",
            "   macro avg       0.50      0.50      0.50     15284\n",
            "weighted avg       0.51      0.51      0.51     15284\n",
            "\n"
          ],
          "name": "stdout"
        },
        {
          "output_type": "display_data",
          "data": {
            "image/png": "[encoded data removed]",
            "text/plain": [
              "<Figure size 432x288 with 1 Axes>"
            ]
          },
          "metadata": {
            "tags": [],
            "needs_background": "light"
          }
        }
      ]
    },
    {
      "cell_type": "code",
      "metadata": {
        "id": "CvQbS7OTg9_k"
      },
      "source": [
        "def get_X(data_json_file):\r\n",
        "    X = []\r\n",
        "    with open(data_json_file, 'r') as json_file:\r\n",
        "        json_list = list(json_file)\r\n",
        "        #print(json_list[0])\r\n",
        "        for json_str in json_list:\r\n",
        "            item = json.loads(json_str)\r\n",
        "            text = item['passage']['text']\r\n",
        "            #print(item['passage'].keys())\r\n",
        "            questions = item['passage']['questions']\r\n",
        "            for q in questions:\r\n",
        "                query = q['question']\r\n",
        "                ans = q['answers']\r\n",
        "                for a in ans:\r\n",
        "                    X.append(text+' Query: '+query+' Answer: '+a['text'])\r\n",
        "    return X"
      ],
      "execution_count": null,
      "outputs": []
    },
    {
      "cell_type": "code",
      "metadata": {
        "colab": {
          "base_uri": "https://localhost:8080/"
        },
        "id": "HsFBXxQUf-BV",
        "outputId": "e49f5899-9d8e-49e5-8ebd-cadc188a784b"
      },
      "source": [
        "X_predict = get_X('test.jsonl')\r\n",
        "print(X_predict[0])"
      ],
      "execution_count": null,
      "outputs": [
        {
          "output_type": "stream",
          "text": [
            "\"(1) Издательство Viking Press совместно с компанией TradeMobile выпустят мобильное приложение, посвященное Анне Франк, передает The Daily Telegraph. (2) Программа будет включать в себя фрагменты из дневника Анны, озвученные британской актрисой Хеленой Бонэм Картер. (3) Помимо этого, в приложение войдут фотографии и видеозаписи, документы из архива Фонда Анны Франк, план здания в Амстердаме, где Анна с семьей скрывались от нацистов, и факсимильные копии страниц дневника. (4) Приложение, которое получит название Anne Frank App, выйдет 18 октября. (5) Интерфейс программы будет англоязычным. (6) На каких платформах будет доступно Anne Frank App, не уточняется. Анна Франк родилась в Германии в 1929 году. (7) Когда в стране начались гонения на евреев, Анна с семьей перебрались в Нидерланды. (8) С 1942 года члены семьи Франк и еще несколько человек скрывались от нацистов в потайных комнатах дома в Амстердаме, который занимала компания отца Анны. (9) В 1944 году группу по доносу обнаружили гестаповцы. (10) Обитатели \"Убежища\" (так Анна называла дом в дневнике) были отправлены в концлагеря; выжить удалось только отцу девочки Отто Франку. (11) Находясь в \"Убежище\", Анна вела дневник, в котором описывала свою жизнь и жизнь своих близких. (12) После ареста книгу с записями сохранила подруга семьи Франк и впоследствии передала ее отцу Анны. (13) Дневник был впервые опубликован в 1947 году. (14) Сейчас он переведен более чем на 60 языков.\" Query: О чем дневник Анны Франк? Answer: Дневник об отметках Анны.\n"
          ],
          "name": "stdout"
        }
      ]
    },
    {
      "cell_type": "code",
      "metadata": {
        "id": "Nykvpm8rKg_h"
      },
      "source": [
        "def rez(ind):\r\n",
        "  if int(ind) == 0:\r\n",
        "    return 1\r\n",
        "  return 0    "
      ],
      "execution_count": null,
      "outputs": []
    },
    {
      "cell_type": "code",
      "metadata": {
        "id": "218QXzyh0sqN"
      },
      "source": [
        "def pred(X):\r\n",
        "  key = X[X.find(\"Query\") + 7:X.find(\"Answer\") - 1].split()[0]\r\n",
        "  if len(key) == 1 or len(key) == 2:\r\n",
        "    key = X[X.find(\"Query\") + 7:X.find(\"Answer\") - 1].split()[0] + \" \" + X[X.find(\"Query\") + 7:X.find(\"Answer\") - 1].split()[1]\r\n",
        "  key = key.lower() \r\n",
        "  if key == \"где\" or key == \"в каком\":\r\n",
        "    R = clf_place.predict([X])\r\n",
        "  elif key == \"почему\":\r\n",
        "    R = clf_Why.predict([X])\r\n",
        "  elif key == \"что\" or key == \"чем\":\r\n",
        "    R = clf_What.predict([X])\r\n",
        "  elif key == \"как\":\r\n",
        "    R = clf_How.predict([X])\r\n",
        "  elif key == \"какие\" or key == \"какой\" or key == \"какая\" or key == \"какое\" or key == \"кто\" or key == \"каким\":\r\n",
        "    R = clf_Who.predict([X])\r\n",
        "  elif key == \"когда\":\r\n",
        "    R = clf_When.predict([X])\r\n",
        "  elif key == \"сколько\":\r\n",
        "    R = clf_Many.predict([X])   \r\n",
        "  else:\r\n",
        "    R = clf_Other.predict([X]) \r\n",
        "  return int(*R)  "
      ],
      "execution_count": null,
      "outputs": []
    },
    {
      "cell_type": "code",
      "metadata": {
        "id": "Gn3lHphshaI3"
      },
      "source": [
        "All_Dict = []\r\n",
        "i = 0\r\n",
        "with jsonlines.open('test.jsonl') as reader:\r\n",
        "    for jsn in reader:\r\n",
        "        Main_Dict = dict()\r\n",
        "        passage = jsn[\"passage\"]\r\n",
        "        Main_Dict['idx'] = jsn[\"idx\"]\r\n",
        "        Passage = dict()\r\n",
        "        Passage[\"text\"] = str(passage[\"text\"])\r\n",
        "        out2_arr = []\r\n",
        "        for ques in passage[\"questions\"]:\r\n",
        "            qu = dict()\r\n",
        "            qu[\"question\"] = str(ques[\"question\"])\r\n",
        "            answers = ques[\"answers\"]\r\n",
        "            out3_arr = []\r\n",
        "            for el in answers:\r\n",
        "                out3 = dict()\r\n",
        "                out3[\"idx\"] = el[\"idx\"]\r\n",
        "                out3[\"text\"] = str(el[\"text\"])\r\n",
        "                out3[\"label\"] = int(pred(X_predict[i]))\r\n",
        "                out3_arr.append(out3)\r\n",
        "                i += 1\r\n",
        "            qu[\"answers\"] = out3_arr\r\n",
        "            qu[\"idx\"] = ques[\"idx\"]\r\n",
        "            out2_arr.append(qu)\r\n",
        "        Passage[\"questions\"] = out2_arr\r\n",
        "        Main_Dict[\"passage\"] = Passage\r\n",
        "        jn = str(Main_Dict)\r\n",
        "        #print(jn)\r\n",
        "        All_Dict.append(Main_Dict)\r\n",
        "with jsonlines.open('output.jsonl', 'w') as writer:\r\n",
        "    writer.write_all(All_Dict)"
      ],
      "execution_count": null,
      "outputs": []
    }
  ]
}